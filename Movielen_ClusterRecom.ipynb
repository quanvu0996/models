{
  "cells": [
    {
      "cell_type": "markdown",
      "metadata": {
        "id": "view-in-github",
        "colab_type": "text"
      },
      "source": [
        "<a href=\"https://colab.research.google.com/github/quanvu0996/models/blob/master/Movielen_ClusterRecom.ipynb\" target=\"_parent\"><img src=\"https://colab.research.google.com/assets/colab-badge.svg\" alt=\"Open In Colab\"/></a>"
      ]
    },
    {
      "cell_type": "code",
      "execution_count": 161,
      "metadata": {
        "colab": {
          "base_uri": "https://localhost:8080/"
        },
        "id": "UncKy14YLYuY",
        "outputId": "e9e474a2-0e59-4c4b-964c-7bb08e2cba46"
      },
      "outputs": [
        {
          "output_type": "stream",
          "name": "stdout",
          "text": [
            "Drive already mounted at /content/gdrive; to attempt to forcibly remount, call drive.mount(\"/content/gdrive\", force_remount=True).\n"
          ]
        }
      ],
      "source": [
        "# Enviroment setting\n",
        "import tensorflow as tf\n",
        "from keras import backend as K\n",
        "import pprint\n",
        "\n",
        "import requests\n",
        "import sys\n",
        "\n",
        "import numpy as np\n",
        "import re\n",
        "from scipy.sparse import csr_matrix, hstack\n",
        "import pandas as pd\n",
        "from pandas.api.types import CategoricalDtype\n",
        "import sklearn\n",
        "from sklearn.model_selection import train_test_split\n",
        "from sklearn.cluster import KMeans\n",
        "from joblib import Parallel, delayed\n",
        "\n",
        "from google.colab import drive\n",
        "drive.mount('/content/gdrive')"
      ]
    },
    {
      "cell_type": "code",
      "execution_count": 3,
      "metadata": {
        "id": "7CXLOGepVQ8v"
      },
      "outputs": [],
      "source": [
        "# Tải dữ liệu về (chỉ tải 1 lần, lưu về drive => từ lần sau chỉ việc load lại)\n",
        "# file_url = 'https://files.grouplens.org/datasets/movielens/ml-20m.zip'\n",
        "# file_path = \"/content/gdrive/MyDrive/RECOMMENDER_STUDIES/data/ml-20m.zip\"\n",
        "\n",
        "# r = requests.get(file_url, stream = True) \n",
        "\n",
        "# with open( file_path, \"wb\") as file: \n",
        "#     for block in r.iter_content(chunk_size = 1024*10): \n",
        "#         if block: \n",
        "#             file.write(block)"
      ]
    },
    {
      "cell_type": "code",
      "execution_count": 4,
      "metadata": {
        "id": "FFg04b9wVvYT"
      },
      "outputs": [],
      "source": [
        "# !unzip /content/gdrive/MyDrive/RECOMMENDER_STUDIES/data/ml-20m.zip -d /content/gdrive/MyDrive/RECOMMENDER_STUDIES/data/"
      ]
    },
    {
      "cell_type": "code",
      "execution_count": 3,
      "metadata": {
        "id": "KxyHycZB5lu5"
      },
      "outputs": [],
      "source": [
        "itemCol = 'movieId'\n",
        "userCol = 'userId'\n",
        "\n",
        "fpath = \"/content/gdrive/MyDrive/RECOMMENDER_STUDIES/data/ml-20m\""
      ]
    },
    {
      "cell_type": "code",
      "execution_count": 4,
      "metadata": {
        "id": "ZCo92nRK8Mps"
      },
      "outputs": [],
      "source": [
        "def fn_year(x):\n",
        "    x = re.findall('\\(\\d{4}\\)$',x['title'])\n",
        "    if len(x) >0:\n",
        "        return x[0][1:5]\n",
        "    else:\n",
        "        return None\n",
        "\n",
        "movies = pd.read_csv(fpath+'/movies.csv')\n",
        "movies['release_year'] = movies.apply( fn_year , axis=1)\n",
        "movies[\"genre_arr\"] = movies['genres'].apply(lambda x: x.split('|'))"
      ]
    },
    {
      "cell_type": "code",
      "execution_count": 5,
      "metadata": {
        "id": "WGjqo4OPWKzB"
      },
      "outputs": [],
      "source": [
        "ratings = pd.read_csv(fpath+'/ratings.csv')"
      ]
    },
    {
      "cell_type": "code",
      "execution_count": 8,
      "metadata": {
        "id": "cHvJHN7l8Q9s"
      },
      "outputs": [],
      "source": [
        "# item-wise split\n",
        "# test_year = '2005'\n",
        "# valid_year = '1996'\n",
        "# ft_movies = movies[movies['release_year']<= valid_year]\n",
        "# lb_movies = movies[(movies['release_year']> valid_year) & (movies['release_year'] <= test_year)]\n",
        "# test_movies = movies[movies['release_year']> test_year]\n",
        "\n",
        "# ft_movies.movieId.count(), lb_movies.movieId.count(), test_movies.movieId.count()"
      ]
    },
    {
      "cell_type": "code",
      "execution_count": 6,
      "metadata": {
        "colab": {
          "base_uri": "https://localhost:8080/",
          "height": 204
        },
        "id": "Two46IFDZrXY",
        "outputId": "6694665f-dbf0-4871-d3b4-043214e0f94a"
      },
      "outputs": [
        {
          "output_type": "execute_result",
          "data": {
            "text/plain": [
              "          userId  movieId  rating   timestamp\n",
              "1922206    13005      919     4.0  1254673170\n",
              "13998030   96693     4963     2.0  1241414967\n",
              "6675075    45960      469     4.0   840429941\n",
              "17471727  120842    56782     5.0  1415965499\n",
              "6888035    47439    44655     4.0  1296774801"
            ],
            "text/html": [
              "\n",
              "  <div id=\"df-7e0c24a0-954d-4501-acda-7aab5fa6a6af\">\n",
              "    <div class=\"colab-df-container\">\n",
              "      <div>\n",
              "<style scoped>\n",
              "    .dataframe tbody tr th:only-of-type {\n",
              "        vertical-align: middle;\n",
              "    }\n",
              "\n",
              "    .dataframe tbody tr th {\n",
              "        vertical-align: top;\n",
              "    }\n",
              "\n",
              "    .dataframe thead th {\n",
              "        text-align: right;\n",
              "    }\n",
              "</style>\n",
              "<table border=\"1\" class=\"dataframe\">\n",
              "  <thead>\n",
              "    <tr style=\"text-align: right;\">\n",
              "      <th></th>\n",
              "      <th>userId</th>\n",
              "      <th>movieId</th>\n",
              "      <th>rating</th>\n",
              "      <th>timestamp</th>\n",
              "    </tr>\n",
              "  </thead>\n",
              "  <tbody>\n",
              "    <tr>\n",
              "      <th>1922206</th>\n",
              "      <td>13005</td>\n",
              "      <td>919</td>\n",
              "      <td>4.0</td>\n",
              "      <td>1254673170</td>\n",
              "    </tr>\n",
              "    <tr>\n",
              "      <th>13998030</th>\n",
              "      <td>96693</td>\n",
              "      <td>4963</td>\n",
              "      <td>2.0</td>\n",
              "      <td>1241414967</td>\n",
              "    </tr>\n",
              "    <tr>\n",
              "      <th>6675075</th>\n",
              "      <td>45960</td>\n",
              "      <td>469</td>\n",
              "      <td>4.0</td>\n",
              "      <td>840429941</td>\n",
              "    </tr>\n",
              "    <tr>\n",
              "      <th>17471727</th>\n",
              "      <td>120842</td>\n",
              "      <td>56782</td>\n",
              "      <td>5.0</td>\n",
              "      <td>1415965499</td>\n",
              "    </tr>\n",
              "    <tr>\n",
              "      <th>6888035</th>\n",
              "      <td>47439</td>\n",
              "      <td>44655</td>\n",
              "      <td>4.0</td>\n",
              "      <td>1296774801</td>\n",
              "    </tr>\n",
              "  </tbody>\n",
              "</table>\n",
              "</div>\n",
              "      <button class=\"colab-df-convert\" onclick=\"convertToInteractive('df-7e0c24a0-954d-4501-acda-7aab5fa6a6af')\"\n",
              "              title=\"Convert this dataframe to an interactive table.\"\n",
              "              style=\"display:none;\">\n",
              "        \n",
              "  <svg xmlns=\"http://www.w3.org/2000/svg\" height=\"24px\"viewBox=\"0 0 24 24\"\n",
              "       width=\"24px\">\n",
              "    <path d=\"M0 0h24v24H0V0z\" fill=\"none\"/>\n",
              "    <path d=\"M18.56 5.44l.94 2.06.94-2.06 2.06-.94-2.06-.94-.94-2.06-.94 2.06-2.06.94zm-11 1L8.5 8.5l.94-2.06 2.06-.94-2.06-.94L8.5 2.5l-.94 2.06-2.06.94zm10 10l.94 2.06.94-2.06 2.06-.94-2.06-.94-.94-2.06-.94 2.06-2.06.94z\"/><path d=\"M17.41 7.96l-1.37-1.37c-.4-.4-.92-.59-1.43-.59-.52 0-1.04.2-1.43.59L10.3 9.45l-7.72 7.72c-.78.78-.78 2.05 0 2.83L4 21.41c.39.39.9.59 1.41.59.51 0 1.02-.2 1.41-.59l7.78-7.78 2.81-2.81c.8-.78.8-2.07 0-2.86zM5.41 20L4 18.59l7.72-7.72 1.47 1.35L5.41 20z\"/>\n",
              "  </svg>\n",
              "      </button>\n",
              "      \n",
              "  <style>\n",
              "    .colab-df-container {\n",
              "      display:flex;\n",
              "      flex-wrap:wrap;\n",
              "      gap: 12px;\n",
              "    }\n",
              "\n",
              "    .colab-df-convert {\n",
              "      background-color: #E8F0FE;\n",
              "      border: none;\n",
              "      border-radius: 50%;\n",
              "      cursor: pointer;\n",
              "      display: none;\n",
              "      fill: #1967D2;\n",
              "      height: 32px;\n",
              "      padding: 0 0 0 0;\n",
              "      width: 32px;\n",
              "    }\n",
              "\n",
              "    .colab-df-convert:hover {\n",
              "      background-color: #E2EBFA;\n",
              "      box-shadow: 0px 1px 2px rgba(60, 64, 67, 0.3), 0px 1px 3px 1px rgba(60, 64, 67, 0.15);\n",
              "      fill: #174EA6;\n",
              "    }\n",
              "\n",
              "    [theme=dark] .colab-df-convert {\n",
              "      background-color: #3B4455;\n",
              "      fill: #D2E3FC;\n",
              "    }\n",
              "\n",
              "    [theme=dark] .colab-df-convert:hover {\n",
              "      background-color: #434B5C;\n",
              "      box-shadow: 0px 1px 3px 1px rgba(0, 0, 0, 0.15);\n",
              "      filter: drop-shadow(0px 1px 2px rgba(0, 0, 0, 0.3));\n",
              "      fill: #FFFFFF;\n",
              "    }\n",
              "  </style>\n",
              "\n",
              "      <script>\n",
              "        const buttonEl =\n",
              "          document.querySelector('#df-7e0c24a0-954d-4501-acda-7aab5fa6a6af button.colab-df-convert');\n",
              "        buttonEl.style.display =\n",
              "          google.colab.kernel.accessAllowed ? 'block' : 'none';\n",
              "\n",
              "        async function convertToInteractive(key) {\n",
              "          const element = document.querySelector('#df-7e0c24a0-954d-4501-acda-7aab5fa6a6af');\n",
              "          const dataTable =\n",
              "            await google.colab.kernel.invokeFunction('convertToInteractive',\n",
              "                                                     [key], {});\n",
              "          if (!dataTable) return;\n",
              "\n",
              "          const docLinkHtml = 'Like what you see? Visit the ' +\n",
              "            '<a target=\"_blank\" href=https://colab.research.google.com/notebooks/data_table.ipynb>data table notebook</a>'\n",
              "            + ' to learn more about interactive tables.';\n",
              "          element.innerHTML = '';\n",
              "          dataTable['output_type'] = 'display_data';\n",
              "          await google.colab.output.renderOutput(dataTable, element);\n",
              "          const docLink = document.createElement('div');\n",
              "          docLink.innerHTML = docLinkHtml;\n",
              "          element.appendChild(docLink);\n",
              "        }\n",
              "      </script>\n",
              "    </div>\n",
              "  </div>\n",
              "  "
            ]
          },
          "metadata": {},
          "execution_count": 6
        }
      ],
      "source": [
        "def user_wise_split(df, userCol, itemCol, test_size=0.25):\n",
        "    all_user = df[userCol].drop_duplicates()\n",
        "    train_user, test_user = train_test_split(all_user, test_size=test_size)\n",
        "\n",
        "    train_ratings = df[df[itemCol].isin(train_user)]\n",
        "    test_ratings = df[df[itemCol].isin(test_user)]\n",
        "    return train_ratings, test_ratings\n",
        "\n",
        "train_val, test = train_test_split(ratings, test_size= 0.25)\n",
        "train, valid = user_wise_split(train_val,userCol, itemCol, test_size=0.25 )\n",
        "train.head()"
      ]
    },
    {
      "cell_type": "markdown",
      "source": [
        "MODELING"
      ],
      "metadata": {
        "id": "0JMeQ9L7148j"
      }
    },
    {
      "cell_type": "code",
      "source": [
        "# Loss function\n",
        "def Focus2(alpha=0.01):\n",
        "    def cal_los(y_true, y_pred):\n",
        "        y_pred = tf.cast(y_pred, tf.float32)\n",
        "        y_true = tf.cast(y_true, tf.float32)\n",
        "\n",
        "        positive_true = y_true[y_true!=0]\n",
        "        positive_pred = y_pred[y_true!=0]\n",
        "        los1 = K.square(positive_true-positive_pred )\n",
        "\n",
        "        zero_true = y_true[y_true==0]\n",
        "        zero_pred = y_pred[y_true==0]\n",
        "        los2 =alpha*  K.square(zero_true-zero_pred )\n",
        "\n",
        "\n",
        "        return K.mean( tf.concat([los1, los2], axis=0) )\n",
        "    return cal_los\n",
        "\n",
        "y_true = tf.constant([1,0.2,0,1])\n",
        "y_pred = tf.constant([1,0,5.2,1.005])\n",
        "\n",
        "Focus2(0.01)(y_true, y_pred)\n"
      ],
      "metadata": {
        "colab": {
          "base_uri": "https://localhost:8080/"
        },
        "id": "bMge7CbePTco",
        "outputId": "d950a69d-81e2-406a-fce0-4e28ba6a6704"
      },
      "execution_count": 8,
      "outputs": [
        {
          "output_type": "execute_result",
          "data": {
            "text/plain": [
              "<tf.Tensor: shape=(), dtype=float32, numpy=0.07760624>"
            ]
          },
          "metadata": {},
          "execution_count": 8
        }
      ]
    },
    {
      "cell_type": "code",
      "source": [
        "# EVALUATION Function\n",
        "def checkbox_rating(ratings, split_level = 3):\n",
        "  \"Convert ratings thang 5 điểm về binary\"\n",
        "  return np.where( ratings > split_level, 1, 0)\n",
        "\n",
        "def pair_iou(r1, r2):\n",
        "  \"\"\"Cho 2 bộ: rating1, rating2, dạng onehot => tính IOU\"\"\"\n",
        "  inter = np.multiply(r1,r2) > 0\n",
        "  union = (r1+r2) > 0\n",
        "\n",
        "  if np.sum(union) ==0:\n",
        "    return None\n",
        "  else:\n",
        "    inters = np.sum(inter, axis=1)\n",
        "    unions = np.sum(union, axis=1)\n",
        "    iou = np.mean(inters[unions>0]/unions[unions>0])\n",
        "    return iou \n",
        "\n",
        "def list_iou(ratings_):\n",
        "  ratings = ratings_.copy()\n",
        "  n = ratings.shape[0]\n",
        "  np.random.shuffle(ratings)\n",
        "\n",
        "  @delayed\n",
        "  def f_iou_i(i):\n",
        "      shift_ratings = np.roll(ratings, i+1)\n",
        "      iou_i = pair_iou(ratings, shift_ratings)\n",
        "      return iou_i\n",
        "\n",
        "\n",
        "  ious = Parallel(n_jobs=-1, backend = \"threading\")(f_iou_i(i) for i in range(10))\n",
        "  return np.mean(ious)\n",
        "\n",
        "\n",
        "def iou_cluster(Y_true, y_cluster_pred):\n",
        "    ious = []\n",
        "    for i in np.unique(y_cluster_pred):\n",
        "        ratings = Y_true[y_cluster_pred == i]\n",
        "        ious.append(list_iou(ratings))\n",
        "    return np.mean(ious), ious"
      ],
      "metadata": {
        "id": "ixmMqBvHxwqj"
      },
      "execution_count": 142,
      "outputs": []
    },
    {
      "cell_type": "markdown",
      "source": [
        "SIMPLE CF"
      ],
      "metadata": {
        "id": "YMU4lliPx9Y5"
      }
    },
    {
      "cell_type": "code",
      "execution_count": 9,
      "metadata": {
        "id": "oeQYJdMBfqyF"
      },
      "outputs": [],
      "source": [
        "# Pivot value, keeping just top_item popular the most\n",
        "def get_cf_ft(ratings, top_item = 300):\n",
        "    top_items = list(train.groupby(itemCol).count()[\"rating\"].sort_values(ascending=False)\\\n",
        "                     .head(top_item).index)\n",
        "    ratings_ = ratings[ratings[itemCol].isin(top_items)]\n",
        "    cf_fts= ratings_.pivot(index=userCol, columns=itemCol, values = \"rating\")\n",
        "    return cf_fts\n",
        "\n",
        "# Get feature and label, random spliting from a full dataset\n",
        "def get_ft_lb(ratings, test_size=0.25, top_item=300):\n",
        "    ft, lb = train_test_split(ratings, test_size= test_size)\n",
        "    ft_pv = get_cf_ft(ft, top_item)\n",
        "    lb_pv = get_cf_ft(ft, top_item)\n",
        "\n",
        "    X = ft_pv.values\n",
        "    y = lb_pv.reindex(ft_pv.index).values\n",
        "    return X, y, ft_pv.index\n",
        "X_cf, y, user_ind = get_ft_lb(train, test_size=0.25)\n"
      ]
    },
    {
      "cell_type": "code",
      "source": [
        "X_cf.shape, y.shape"
      ],
      "metadata": {
        "colab": {
          "base_uri": "https://localhost:8080/"
        },
        "id": "z2_vkCHsOc30",
        "outputId": "4efe23d1-226a-4927-e047-bd38c560833e"
      },
      "execution_count": 10,
      "outputs": [
        {
          "output_type": "execute_result",
          "data": {
            "text/plain": [
              "((136272, 300), (136272, 300))"
            ]
          },
          "metadata": {},
          "execution_count": 10
        }
      ]
    },
    {
      "cell_type": "code",
      "execution_count": 11,
      "metadata": {
        "colab": {
          "base_uri": "https://localhost:8080/"
        },
        "id": "CqD5umqzaOXS",
        "outputId": "1a1e3c26-035b-41b1-d2fd-3019d94c2d28"
      },
      "outputs": [
        {
          "output_type": "stream",
          "name": "stdout",
          "text": [
            "Epoch 1/5\n",
            "2130/2130 [==============================] - 11s 5ms/step - loss: 0.6520\n",
            "Epoch 2/5\n",
            "2130/2130 [==============================] - 6s 3ms/step - loss: 0.3364\n",
            "Epoch 3/5\n",
            "2130/2130 [==============================] - 6s 3ms/step - loss: 0.3135\n",
            "Epoch 4/5\n",
            "2130/2130 [==============================] - 6s 3ms/step - loss: 0.3051\n",
            "Epoch 5/5\n",
            "2130/2130 [==============================] - 6s 3ms/step - loss: 0.2985\n"
          ]
        },
        {
          "output_type": "execute_result",
          "data": {
            "text/plain": [
              "<keras.callbacks.History at 0x7f71b0f30c50>"
            ]
          },
          "metadata": {},
          "execution_count": 11
        }
      ],
      "source": [
        "# Math model\n",
        "n_ft = X_cf.shape[1]\n",
        "n_clusters = 25\n",
        "n_lb = y.shape[1]\n",
        "model = tf.keras.Sequential([\n",
        "          tf.keras.layers.Input(n_ft),\n",
        "          tf.keras.layers.Dense(n_clusters, activation='softmax'),\n",
        "        #   tf.keras.layers.Dense(int(n_clusters/4), activation='softmax'),\n",
        "          tf.keras.layers.Dense(n_lb)\n",
        "])\n",
        "\n",
        "model.compile( optimizer='adam', loss= Focus2(0.05))\n",
        "model.fit(np.nan_to_num(X_cf), np.nan_to_num(y), epochs=5, batch_size=64)"
      ]
    },
    {
      "cell_type": "code",
      "execution_count": 14,
      "metadata": {
        "id": "bEA0CpkVjmce",
        "colab": {
          "base_uri": "https://localhost:8080/"
        },
        "outputId": "5928e2a6-4fac-4592-edaf-16ca80d9acab"
      },
      "outputs": [
        {
          "output_type": "stream",
          "name": "stdout",
          "text": [
            "tf.Tensor(\n",
            "[0.0000000e+00 3.6926485e-07 5.2853051e-05 6.3609052e-04 0.0000000e+00\n",
            " 0.0000000e+00 3.9632429e-11 7.7724529e-18 0.0000000e+00 0.0000000e+00\n",
            " 1.8855225e-16 0.0000000e+00 0.0000000e+00 8.2715757e-02 0.0000000e+00\n",
            " 0.0000000e+00 5.6058341e-17 0.0000000e+00 4.5427034e-14 9.1464311e-01\n",
            " 0.0000000e+00 1.9518479e-03 0.0000000e+00 0.0000000e+00 0.0000000e+00], shape=(25,), dtype=float32) 19\n",
            "1 : 4263\n",
            "2 : 12602\n",
            "3 : 5991\n",
            "6 : 25947\n",
            "7 : 1028\n",
            "10 : 7444\n",
            "13 : 16617\n",
            "16 : 13778\n",
            "18 : 8751\n",
            "19 : 32770\n",
            "21 : 7081\n"
          ]
        }
      ],
      "source": [
        "lv1 = model.layers[0](np.nan_to_num(X_cf))\n",
        "lv1_ind = np.argmax(lv1, axis=1)\n",
        "k=10\n",
        "print(lv1[k], lv1_ind[k])\n",
        "\n",
        "for i in np.unique(lv1_ind):\n",
        "    print(i,\":\", np.sum(lv1_ind==i))"
      ]
    },
    {
      "cell_type": "code",
      "source": [
        "def iou_cluster(Y_true, y_cluster_pred):\n",
        "    ious = []\n",
        "    ns = []\n",
        "    for i in np.unique(y_cluster_pred):\n",
        "        ratings = Y_true[y_cluster_pred == i]\n",
        "        ns.append(ratings.shape[0])\n",
        "        ious.append(list_iou(ratings))\n",
        "    ns_arr = np.array(ns)\n",
        "    ious_arr = np.array(ious)\n",
        "    return np.sum(ns_arr*ious_arr)/np.sum(ns_arr)"
      ],
      "metadata": {
        "id": "Su5kOSL9JMzT"
      },
      "execution_count": 157,
      "outputs": []
    },
    {
      "cell_type": "code",
      "source": [
        "y_checkbox = checkbox_rating(y)\n",
        "iou = iou_cluster(y_checkbox, lv1_ind)\n",
        "print(iou)"
      ],
      "metadata": {
        "colab": {
          "base_uri": "https://localhost:8080/"
        },
        "id": "eCaruPv-IfeC",
        "outputId": "61a251f2-5c87-4543-eea8-541f4da43ed5"
      },
      "execution_count": 158,
      "outputs": [
        {
          "output_type": "stream",
          "name": "stdout",
          "text": [
            "0.04855981074605795\n"
          ]
        }
      ]
    },
    {
      "cell_type": "code",
      "execution_count": 15,
      "metadata": {
        "id": "SvnkPxJCkxos"
      },
      "outputs": [],
      "source": [
        "# lv2 = model.layers[1](lv1)\n",
        "# lv2_ind = np.argmax(lv2, axis=1)\n",
        "# for i in np.unique(lv2_ind):\n",
        "#     print(i,\":\", np.sum(lv2_ind==i))"
      ]
    },
    {
      "cell_type": "markdown",
      "source": [
        "# CF + CB model"
      ],
      "metadata": {
        "id": "2BpCR7rv1wwX"
      }
    },
    {
      "cell_type": "code",
      "execution_count": 146,
      "metadata": {
        "id": "NciDjyx9l86-",
        "colab": {
          "base_uri": "https://localhost:8080/"
        },
        "outputId": "5c972648-a9c7-484b-bd81-ee621233a7a3"
      },
      "outputs": [
        {
          "output_type": "stream",
          "name": "stdout",
          "text": [
            "CPU times: user 1min 24s, sys: 28.7 s, total: 1min 53s\n",
            "Wall time: 1min 54s\n"
          ]
        }
      ],
      "source": [
        "%%time\n",
        "def vectorize_arr(movies, itemCol, arrCol, outCol = \"genre_vec\"):\n",
        "\n",
        "    out = movies.explode(arrCol)\n",
        "    columns = out[arrCol].drop_duplicates()\n",
        "    out[\"value\"]=1\n",
        "\n",
        "    out = out.pivot(index=itemCol, columns = arrCol, values=\"value\").fillna(0)\n",
        "    out[outCol] = out.apply(lambda x: np.array(x[columns]), axis=1)\n",
        "    return out.drop(columns, axis=1)\n",
        "\n",
        "def cb_ft(ratings, movies,userCol ,itemCol, user_ind=None):\n",
        "    movie_attr = vectorize_arr(movies,itemCol, arrCol='genre_arr')\n",
        "    train_ft = ratings.merge(movie_attr, on=itemCol)\n",
        "    train_ft['rating_attr'] = train_ft['rating'] * train_ft['genre_vec']\n",
        "    train_ft_byu = train_ft.groupby(userCol).agg({'rating_attr':\"mean\"})\n",
        "    if user_ind is not None:\n",
        "        train_ft_byu = train_ft_byu.reindex(user_ind)\n",
        "        \n",
        "    list_ar = [x[0] for x in train_ft_byu.values]\n",
        "    X_cb = np.stack(list_ar, axis=0)\n",
        "    return X_cb\n",
        "\n",
        "X_cfcb = np.hstack([np.nan_to_num(X_cf),\n",
        "                   cb_ft(train, movies, userCol ,itemCol, user_ind)\n",
        "                   ])"
      ]
    },
    {
      "cell_type": "code",
      "source": [
        "X_cfcb.shape"
      ],
      "metadata": {
        "colab": {
          "base_uri": "https://localhost:8080/"
        },
        "id": "3YQAA9wS7qEI",
        "outputId": "e32b7f1b-f791-4883-8e12-00e497f23919"
      },
      "execution_count": 147,
      "outputs": [
        {
          "output_type": "execute_result",
          "data": {
            "text/plain": [
              "(136272, 320)"
            ]
          },
          "metadata": {},
          "execution_count": 147
        }
      ]
    },
    {
      "cell_type": "code",
      "source": [
        "# Math model\n",
        "n_ft = X_cfcb.shape[1]\n",
        "n_clusters = 25\n",
        "n_lb = y.shape[1]\n",
        "model2 = tf.keras.Sequential([\n",
        "          tf.keras.layers.Input(n_ft),\n",
        "          tf.keras.layers.BatchNormalization(),\n",
        "          tf.keras.layers.Dense(n_clusters, activation='softmax'),\n",
        "        #   tf.keras.layers.Dense(int(n_clusters/4), activation='softmax'),\n",
        "          tf.keras.layers.Dense(n_lb)\n",
        "])\n",
        "\n",
        "model2.compile( optimizer='adam', loss= Focus2(0.01) )\n",
        "model2.fit(np.nan_to_num(X_cfcb), np.nan_to_num(y), epochs=5, batch_size=128)"
      ],
      "metadata": {
        "colab": {
          "base_uri": "https://localhost:8080/"
        },
        "id": "NjIWeMO57KfE",
        "outputId": "948ca7f1-caa5-4872-9f00-7f36bae65182"
      },
      "execution_count": 148,
      "outputs": [
        {
          "output_type": "stream",
          "name": "stdout",
          "text": [
            "Epoch 1/5\n",
            "1065/1065 [==============================] - 6s 4ms/step - loss: 0.7661\n",
            "Epoch 2/5\n",
            "1065/1065 [==============================] - 5s 5ms/step - loss: 0.2833\n",
            "Epoch 3/5\n",
            "1065/1065 [==============================] - 5s 4ms/step - loss: 0.1885\n",
            "Epoch 4/5\n",
            "1065/1065 [==============================] - 5s 5ms/step - loss: 0.1665\n",
            "Epoch 5/5\n",
            "1065/1065 [==============================] - 5s 4ms/step - loss: 0.1520\n"
          ]
        },
        {
          "output_type": "execute_result",
          "data": {
            "text/plain": [
              "<keras.callbacks.History at 0x7f71acb2d950>"
            ]
          },
          "metadata": {},
          "execution_count": 148
        }
      ]
    },
    {
      "cell_type": "code",
      "source": [
        "lv1_2 = model2.layers[1](model2.layers[0](np.nan_to_num(X_cfcb)))\n",
        "lv1_ind_2 = np.argmax(lv1_2, axis=1)\n",
        "print(lv1_2[1])\n",
        "\n",
        "for i in np.unique(lv1_ind_2):\n",
        "    print(i,\":\", np.sum(lv1_ind_2==i))"
      ],
      "metadata": {
        "colab": {
          "base_uri": "https://localhost:8080/"
        },
        "id": "8zB0tz-k7bGv",
        "outputId": "0f6f4566-cc10-428c-f3d7-3c16f2d682da"
      },
      "execution_count": 149,
      "outputs": [
        {
          "output_type": "stream",
          "name": "stdout",
          "text": [
            "tf.Tensor(\n",
            "[4.8878923e-02 9.0589845e-01 3.3117320e-02 5.5799336e-07 1.5746822e-07\n",
            " 1.2319317e-07 6.5119423e-07 5.5146280e-08 1.4830492e-06 1.6900875e-06\n",
            " 4.9764600e-07 2.0810081e-07 5.8337026e-08 1.2091854e-02 1.6287899e-07\n",
            " 1.0708258e-06 1.2668285e-07 1.3519192e-06 1.2261555e-07 1.2528376e-07\n",
            " 7.5136279e-07 4.2966337e-07 2.1386481e-06 1.3521255e-06 2.5005508e-07], shape=(25,), dtype=float32)\n",
            "0 : 5308\n",
            "1 : 65836\n",
            "2 : 34350\n",
            "13 : 30778\n"
          ]
        }
      ]
    },
    {
      "cell_type": "code",
      "source": [
        "y_checkbox = checkbox_rating(y)\n",
        "iou = iou_cluster(y_checkbox, lv1_ind_2)\n",
        "print(iou)"
      ],
      "metadata": {
        "colab": {
          "base_uri": "https://localhost:8080/"
        },
        "id": "BzfHgZKUIkYu",
        "outputId": "a2e9f5cd-b097-4057-984c-873687b3812e"
      },
      "execution_count": 159,
      "outputs": [
        {
          "output_type": "stream",
          "name": "stdout",
          "text": [
            "0.048564875860609744\n"
          ]
        }
      ]
    },
    {
      "cell_type": "code",
      "source": [
        "iou"
      ],
      "metadata": {
        "colab": {
          "base_uri": "https://localhost:8080/"
        },
        "id": "vwVDIBNlIWGS",
        "outputId": "025b2ab4-82e3-4150-a1ec-e7725c8a3be2"
      },
      "execution_count": 156,
      "outputs": [
        {
          "output_type": "execute_result",
          "data": {
            "text/plain": [
              "(0.038822547957990214,\n",
              " [0.027230876383575443,\n",
              "  0.06755595101438942,\n",
              "  0.045932047038996386,\n",
              "  0.014571317394999598])"
            ]
          },
          "metadata": {},
          "execution_count": 156
        }
      ]
    },
    {
      "cell_type": "code",
      "source": [
        "y[lv1_ind==12].shape"
      ],
      "metadata": {
        "colab": {
          "base_uri": "https://localhost:8080/"
        },
        "id": "Y1kWfgWyveJ7",
        "outputId": "98974744-0c50-47f6-cd08-90c7dcf666f1"
      },
      "execution_count": 23,
      "outputs": [
        {
          "output_type": "execute_result",
          "data": {
            "text/plain": [
              "(104861, 300)"
            ]
          },
          "metadata": {},
          "execution_count": 23
        }
      ]
    },
    {
      "cell_type": "markdown",
      "source": [
        "BASELINE: KMEANS"
      ],
      "metadata": {
        "id": "JQ5Z-ly9Jkqa"
      }
    },
    {
      "cell_type": "code",
      "source": [
        "# KMeans với CF feature\n",
        "km1 = sklearn.cluster.KMeans()\n",
        "km1.fit(np.nan_to_num(X_cf), np.nan_to_num(y))\n",
        "\n",
        "km1_ind = km1.predict(np.nan_to_num(X_cf))\n",
        "\n",
        "for i in np.unique(km1_ind):\n",
        "    print(i,\":\", np.sum(km1_ind==i))"
      ],
      "metadata": {
        "colab": {
          "base_uri": "https://localhost:8080/"
        },
        "id": "yNz_rfdxKVBM",
        "outputId": "bdd1fa8b-482c-46ab-eaa6-c4058038a3d1"
      },
      "execution_count": 163,
      "outputs": [
        {
          "output_type": "stream",
          "name": "stdout",
          "text": [
            "0 : 7619\n",
            "1 : 17880\n",
            "2 : 8861\n",
            "3 : 20986\n",
            "4 : 11488\n",
            "5 : 52501\n",
            "6 : 10872\n",
            "7 : 6065\n"
          ]
        }
      ]
    },
    {
      "cell_type": "code",
      "source": [
        "# y_checkbox = checkbox_rating(y)\n",
        "iou = iou_cluster(y_checkbox, km1_ind)\n",
        "print(iou)"
      ],
      "metadata": {
        "colab": {
          "base_uri": "https://localhost:8080/"
        },
        "id": "yk6FvP5XKsVr",
        "outputId": "f208a0ae-080d-4148-9643-007f46116f45"
      },
      "execution_count": 164,
      "outputs": [
        {
          "output_type": "stream",
          "name": "stdout",
          "text": [
            "0.048512713248720904\n"
          ]
        }
      ]
    },
    {
      "cell_type": "code",
      "source": [
        "# KMeans với CFCB feature\n",
        "km2 = sklearn.cluster.KMeans()\n",
        "km2.fit(np.nan_to_num(X_cfcb), np.nan_to_num(y))\n",
        "\n",
        "km2_ind = km2.predict(np.nan_to_num(X_cfcb))\n",
        "\n",
        "for i in np.unique(km2_ind):\n",
        "    print(i,\":\", np.sum(km2_ind==i))"
      ],
      "metadata": {
        "colab": {
          "base_uri": "https://localhost:8080/"
        },
        "id": "ORNTzKT8LB3K",
        "outputId": "3a2e7b1c-3fd5-4dd9-a5ed-bb3816492982"
      },
      "execution_count": 165,
      "outputs": [
        {
          "output_type": "stream",
          "name": "stdout",
          "text": [
            "0 : 51748\n",
            "1 : 21094\n",
            "2 : 17926\n",
            "3 : 7592\n",
            "4 : 10956\n",
            "5 : 6193\n",
            "6 : 9278\n",
            "7 : 11485\n"
          ]
        }
      ]
    },
    {
      "cell_type": "code",
      "source": [
        "# y_checkbox = checkbox_rating(y)\n",
        "iou = iou_cluster(y_checkbox, km2_ind)\n",
        "print(iou)"
      ],
      "metadata": {
        "colab": {
          "base_uri": "https://localhost:8080/"
        },
        "id": "Wiag_pYtLNTM",
        "outputId": "7ce71c0c-40f6-469e-ec17-7052e48eb1cf"
      },
      "execution_count": 166,
      "outputs": [
        {
          "output_type": "stream",
          "name": "stdout",
          "text": [
            "0.04851188868586251\n"
          ]
        }
      ]
    },
    {
      "cell_type": "markdown",
      "source": [
        "EVALUATION"
      ],
      "metadata": {
        "id": "lxj5d4xjxWB0"
      }
    },
    {
      "cell_type": "code",
      "source": [
        ""
      ],
      "metadata": {
        "id": "WAvpNtR5JicU"
      },
      "execution_count": null,
      "outputs": []
    },
    {
      "cell_type": "code",
      "source": [
        "%%time\n",
        "# y_checkbox = checkbox_rating(y)\n",
        "iou = iou_cluster(y_checkbox, lv1_ind)\n",
        "iou"
      ],
      "metadata": {
        "colab": {
          "base_uri": "https://localhost:8080/"
        },
        "id": "z1xso_0hxXRk",
        "outputId": "f56e8202-4f87-47ee-dee4-77d0bede77f6"
      },
      "execution_count": 143,
      "outputs": [
        {
          "output_type": "stream",
          "name": "stdout",
          "text": [
            "CPU times: user 8.21 s, sys: 535 ms, total: 8.75 s\n",
            "Wall time: 6.53 s\n"
          ]
        }
      ]
    },
    {
      "cell_type": "code",
      "source": [
        "iou"
      ],
      "metadata": {
        "colab": {
          "base_uri": "https://localhost:8080/"
        },
        "id": "weY9MN89A4n_",
        "outputId": "8d98eb18-ac13-4939-8cec-7d2868fe3276"
      },
      "execution_count": 144,
      "outputs": [
        {
          "output_type": "execute_result",
          "data": {
            "text/plain": [
              "(0.04908920674218443,\n",
              " [0.04986259549791176,\n",
              "  0.048524567452345894,\n",
              "  0.04903010774764126,\n",
              "  0.04918971024521553,\n",
              "  0.051314851740290414,\n",
              "  0.04847542653007918,\n",
              "  0.048861613324826005,\n",
              "  0.04891807578062232,\n",
              "  0.04830921677197546,\n",
              "  0.04891970371456544,\n",
              "  0.04857540535855545])"
            ]
          },
          "metadata": {},
          "execution_count": 144
        }
      ]
    },
    {
      "cell_type": "code",
      "source": [
        "k = 10\n",
        "r1 = y_checkbox[lv1_ind== k]\n",
        "shift_r1 = np.roll(r1, 10)\n",
        "iou_i = pair_iou(shift_r1, r1 )\n",
        "iou_i"
      ],
      "metadata": {
        "colab": {
          "base_uri": "https://localhost:8080/"
        },
        "id": "SJ3B__6vxg2r",
        "outputId": "8479040a-e4f9-4595-ed70-01577d5faa64"
      },
      "execution_count": 105,
      "outputs": [
        {
          "output_type": "stream",
          "name": "stderr",
          "text": [
            "/usr/local/lib/python3.7/dist-packages/ipykernel_launcher.py:14: RuntimeWarning: invalid value encountered in true_divide\n",
            "  \n"
          ]
        },
        {
          "output_type": "execute_result",
          "data": {
            "text/plain": [
              "nan"
            ]
          },
          "metadata": {},
          "execution_count": 105
        }
      ]
    },
    {
      "cell_type": "code",
      "source": [
        "import gc\n",
        "gc.collect()"
      ],
      "metadata": {
        "colab": {
          "base_uri": "https://localhost:8080/"
        },
        "id": "ZF0iDhHpDASH",
        "outputId": "6548e964-ae08-4dcf-f072-af17f9a23326"
      },
      "execution_count": 150,
      "outputs": [
        {
          "output_type": "execute_result",
          "data": {
            "text/plain": [
              "858"
            ]
          },
          "metadata": {},
          "execution_count": 150
        }
      ]
    },
    {
      "cell_type": "code",
      "source": [
        "\n"
      ],
      "metadata": {
        "colab": {
          "base_uri": "https://localhost:8080/"
        },
        "id": "ilBUYDuBBgsC",
        "outputId": "3455f846-3a0c-4fae-e5f2-c9fe1e742934"
      },
      "execution_count": 116,
      "outputs": [
        {
          "output_type": "stream",
          "name": "stdout",
          "text": [
            "0.6666666666666666\n"
          ]
        }
      ]
    },
    {
      "cell_type": "code",
      "source": [
        "iou_i"
      ],
      "metadata": {
        "colab": {
          "base_uri": "https://localhost:8080/"
        },
        "id": "DPryzg6VAnxo",
        "outputId": "8e7ede26-bda9-4138-c0a0-6ebd8f9182b0"
      },
      "execution_count": 117,
      "outputs": [
        {
          "output_type": "execute_result",
          "data": {
            "text/plain": [
              "0.04487990623572415"
            ]
          },
          "metadata": {},
          "execution_count": 117
        }
      ]
    },
    {
      "cell_type": "code",
      "source": [
        "np.unique(lv1_ind)"
      ],
      "metadata": {
        "colab": {
          "base_uri": "https://localhost:8080/"
        },
        "id": "Y5eDN3J4xhCj",
        "outputId": "d2b4f2a0-11d6-4060-c882-9f5c3df5518b"
      },
      "execution_count": 36,
      "outputs": [
        {
          "output_type": "execute_result",
          "data": {
            "text/plain": [
              "array([ 1,  2,  3,  6,  7, 10, 13, 16, 18, 19, 21])"
            ]
          },
          "metadata": {},
          "execution_count": 36
        }
      ]
    },
    {
      "cell_type": "code",
      "source": [
        ""
      ],
      "metadata": {
        "id": "7LaQte439G4P"
      },
      "execution_count": null,
      "outputs": []
    }
  ],
  "metadata": {
    "colab": {
      "collapsed_sections": [],
      "name": "Movielen_ClusterRecom.ipynb",
      "provenance": [],
      "authorship_tag": "ABX9TyMf8vNTrMbkhDydAApZbZ/J",
      "include_colab_link": true
    },
    "kernelspec": {
      "display_name": "Python 3",
      "name": "python3"
    },
    "language_info": {
      "name": "python"
    }
  },
  "nbformat": 4,
  "nbformat_minor": 0
}