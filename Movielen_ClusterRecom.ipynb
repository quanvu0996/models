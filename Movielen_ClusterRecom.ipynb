{
  "cells": [
    {
      "cell_type": "markdown",
      "metadata": {
        "id": "view-in-github",
        "colab_type": "text"
      },
      "source": [
        "<a href=\"https://colab.research.google.com/github/quanvu0996/models/blob/master/Movielen_ClusterRecom.ipynb\" target=\"_parent\"><img src=\"https://colab.research.google.com/assets/colab-badge.svg\" alt=\"Open In Colab\"/></a>"
      ]
    },
    {
      "cell_type": "code",
      "execution_count": 1,
      "metadata": {
        "colab": {
          "base_uri": "https://localhost:8080/"
        },
        "id": "UncKy14YLYuY",
        "outputId": "6c61e80a-412f-4255-c95c-1d9e14f00a39"
      },
      "outputs": [
        {
          "output_type": "stream",
          "name": "stdout",
          "text": [
            "Mounted at /content/gdrive\n"
          ]
        }
      ],
      "source": [
        "# Enviroment setting\n",
        "import tensorflow as tf\n",
        "from keras import backend as K\n",
        "import pprint\n",
        "\n",
        "import requests\n",
        "import sys\n",
        "\n",
        "import numpy as np\n",
        "import re\n",
        "from scipy.sparse import csr_matrix, hstack\n",
        "import pandas as pd\n",
        "from pandas.api.types import CategoricalDtype\n",
        "import sklearn\n",
        "from sklearn.model_selection import train_test_split\n",
        "from sklearn.cluster import KMeans\n",
        "from joblib import Parallel, delayed\n",
        "\n",
        "from google.colab import drive\n",
        "drive.mount('/content/gdrive')"
      ]
    },
    {
      "cell_type": "code",
      "execution_count": 2,
      "metadata": {
        "id": "7CXLOGepVQ8v"
      },
      "outputs": [],
      "source": [
        "# Tải dữ liệu về (chỉ tải 1 lần, lưu về drive => từ lần sau chỉ việc load lại)\n",
        "# file_url = 'https://files.grouplens.org/datasets/movielens/ml-20m.zip'\n",
        "# file_path = \"/content/gdrive/MyDrive/RECOMMENDER_STUDIES/data/ml-20m.zip\"\n",
        "\n",
        "# r = requests.get(file_url, stream = True) \n",
        "\n",
        "# with open( file_path, \"wb\") as file: \n",
        "#     for block in r.iter_content(chunk_size = 1024*10): \n",
        "#         if block: \n",
        "#             file.write(block)"
      ]
    },
    {
      "cell_type": "code",
      "execution_count": 3,
      "metadata": {
        "id": "FFg04b9wVvYT"
      },
      "outputs": [],
      "source": [
        "# !unzip /content/gdrive/MyDrive/RECOMMENDER_STUDIES/data/ml-20m.zip -d /content/gdrive/MyDrive/RECOMMENDER_STUDIES/data/"
      ]
    },
    {
      "cell_type": "code",
      "execution_count": 4,
      "metadata": {
        "id": "KxyHycZB5lu5"
      },
      "outputs": [],
      "source": [
        "itemCol = 'movieId'\n",
        "userCol = 'userId'\n",
        "\n",
        "fpath = \"/content/gdrive/MyDrive/RECOMMENDER_STUDIES/data/ml-20m\""
      ]
    },
    {
      "cell_type": "code",
      "execution_count": 5,
      "metadata": {
        "id": "ZCo92nRK8Mps"
      },
      "outputs": [],
      "source": [
        "def fn_year(x):\n",
        "    x = re.findall('\\(\\d{4}\\)$',x['title'])\n",
        "    if len(x) >0:\n",
        "        return x[0][1:5]\n",
        "    else:\n",
        "        return None\n",
        "\n",
        "movies = pd.read_csv(fpath+'/movies.csv')\n",
        "movies['release_year'] = movies.apply( fn_year , axis=1)\n",
        "movies[\"genre_arr\"] = movies['genres'].apply(lambda x: x.split('|'))"
      ]
    },
    {
      "cell_type": "code",
      "execution_count": 6,
      "metadata": {
        "id": "WGjqo4OPWKzB"
      },
      "outputs": [],
      "source": [
        "ratings = pd.read_csv(fpath+'/ratings.csv')"
      ]
    },
    {
      "cell_type": "code",
      "execution_count": null,
      "metadata": {
        "id": "cHvJHN7l8Q9s"
      },
      "outputs": [],
      "source": [
        "# item-wise split\n",
        "# test_year = '2005'\n",
        "# valid_year = '1996'\n",
        "# ft_movies = movies[movies['release_year']<= valid_year]\n",
        "# lb_movies = movies[(movies['release_year']> valid_year) & (movies['release_year'] <= test_year)]\n",
        "# test_movies = movies[movies['release_year']> test_year]\n",
        "\n",
        "# ft_movies.movieId.count(), lb_movies.movieId.count(), test_movies.movieId.count()"
      ]
    },
    {
      "cell_type": "code",
      "execution_count": 7,
      "metadata": {
        "colab": {
          "base_uri": "https://localhost:8080/",
          "height": 206
        },
        "id": "Two46IFDZrXY",
        "outputId": "dbddf540-4678-466b-fdc6-8b8550919c66"
      },
      "outputs": [
        {
          "output_type": "execute_result",
          "data": {
            "text/plain": [
              "          userId  movieId  rating   timestamp\n",
              "6242748    42927     1304     4.0  1150312702\n",
              "13300303   91910     3210     5.0   953557768\n",
              "10683891   73946     1084     4.0  1018465334\n",
              "10159814   70285    32587     3.5  1415473956\n",
              "8255708    56958     2580     4.5  1084363171"
            ],
            "text/html": [
              "\n",
              "  <div id=\"df-3dfd46cf-da91-4efc-baf7-2f28314239f8\">\n",
              "    <div class=\"colab-df-container\">\n",
              "      <div>\n",
              "<style scoped>\n",
              "    .dataframe tbody tr th:only-of-type {\n",
              "        vertical-align: middle;\n",
              "    }\n",
              "\n",
              "    .dataframe tbody tr th {\n",
              "        vertical-align: top;\n",
              "    }\n",
              "\n",
              "    .dataframe thead th {\n",
              "        text-align: right;\n",
              "    }\n",
              "</style>\n",
              "<table border=\"1\" class=\"dataframe\">\n",
              "  <thead>\n",
              "    <tr style=\"text-align: right;\">\n",
              "      <th></th>\n",
              "      <th>userId</th>\n",
              "      <th>movieId</th>\n",
              "      <th>rating</th>\n",
              "      <th>timestamp</th>\n",
              "    </tr>\n",
              "  </thead>\n",
              "  <tbody>\n",
              "    <tr>\n",
              "      <th>6242748</th>\n",
              "      <td>42927</td>\n",
              "      <td>1304</td>\n",
              "      <td>4.0</td>\n",
              "      <td>1150312702</td>\n",
              "    </tr>\n",
              "    <tr>\n",
              "      <th>13300303</th>\n",
              "      <td>91910</td>\n",
              "      <td>3210</td>\n",
              "      <td>5.0</td>\n",
              "      <td>953557768</td>\n",
              "    </tr>\n",
              "    <tr>\n",
              "      <th>10683891</th>\n",
              "      <td>73946</td>\n",
              "      <td>1084</td>\n",
              "      <td>4.0</td>\n",
              "      <td>1018465334</td>\n",
              "    </tr>\n",
              "    <tr>\n",
              "      <th>10159814</th>\n",
              "      <td>70285</td>\n",
              "      <td>32587</td>\n",
              "      <td>3.5</td>\n",
              "      <td>1415473956</td>\n",
              "    </tr>\n",
              "    <tr>\n",
              "      <th>8255708</th>\n",
              "      <td>56958</td>\n",
              "      <td>2580</td>\n",
              "      <td>4.5</td>\n",
              "      <td>1084363171</td>\n",
              "    </tr>\n",
              "  </tbody>\n",
              "</table>\n",
              "</div>\n",
              "      <button class=\"colab-df-convert\" onclick=\"convertToInteractive('df-3dfd46cf-da91-4efc-baf7-2f28314239f8')\"\n",
              "              title=\"Convert this dataframe to an interactive table.\"\n",
              "              style=\"display:none;\">\n",
              "        \n",
              "  <svg xmlns=\"http://www.w3.org/2000/svg\" height=\"24px\"viewBox=\"0 0 24 24\"\n",
              "       width=\"24px\">\n",
              "    <path d=\"M0 0h24v24H0V0z\" fill=\"none\"/>\n",
              "    <path d=\"M18.56 5.44l.94 2.06.94-2.06 2.06-.94-2.06-.94-.94-2.06-.94 2.06-2.06.94zm-11 1L8.5 8.5l.94-2.06 2.06-.94-2.06-.94L8.5 2.5l-.94 2.06-2.06.94zm10 10l.94 2.06.94-2.06 2.06-.94-2.06-.94-.94-2.06-.94 2.06-2.06.94z\"/><path d=\"M17.41 7.96l-1.37-1.37c-.4-.4-.92-.59-1.43-.59-.52 0-1.04.2-1.43.59L10.3 9.45l-7.72 7.72c-.78.78-.78 2.05 0 2.83L4 21.41c.39.39.9.59 1.41.59.51 0 1.02-.2 1.41-.59l7.78-7.78 2.81-2.81c.8-.78.8-2.07 0-2.86zM5.41 20L4 18.59l7.72-7.72 1.47 1.35L5.41 20z\"/>\n",
              "  </svg>\n",
              "      </button>\n",
              "      \n",
              "  <style>\n",
              "    .colab-df-container {\n",
              "      display:flex;\n",
              "      flex-wrap:wrap;\n",
              "      gap: 12px;\n",
              "    }\n",
              "\n",
              "    .colab-df-convert {\n",
              "      background-color: #E8F0FE;\n",
              "      border: none;\n",
              "      border-radius: 50%;\n",
              "      cursor: pointer;\n",
              "      display: none;\n",
              "      fill: #1967D2;\n",
              "      height: 32px;\n",
              "      padding: 0 0 0 0;\n",
              "      width: 32px;\n",
              "    }\n",
              "\n",
              "    .colab-df-convert:hover {\n",
              "      background-color: #E2EBFA;\n",
              "      box-shadow: 0px 1px 2px rgba(60, 64, 67, 0.3), 0px 1px 3px 1px rgba(60, 64, 67, 0.15);\n",
              "      fill: #174EA6;\n",
              "    }\n",
              "\n",
              "    [theme=dark] .colab-df-convert {\n",
              "      background-color: #3B4455;\n",
              "      fill: #D2E3FC;\n",
              "    }\n",
              "\n",
              "    [theme=dark] .colab-df-convert:hover {\n",
              "      background-color: #434B5C;\n",
              "      box-shadow: 0px 1px 3px 1px rgba(0, 0, 0, 0.15);\n",
              "      filter: drop-shadow(0px 1px 2px rgba(0, 0, 0, 0.3));\n",
              "      fill: #FFFFFF;\n",
              "    }\n",
              "  </style>\n",
              "\n",
              "      <script>\n",
              "        const buttonEl =\n",
              "          document.querySelector('#df-3dfd46cf-da91-4efc-baf7-2f28314239f8 button.colab-df-convert');\n",
              "        buttonEl.style.display =\n",
              "          google.colab.kernel.accessAllowed ? 'block' : 'none';\n",
              "\n",
              "        async function convertToInteractive(key) {\n",
              "          const element = document.querySelector('#df-3dfd46cf-da91-4efc-baf7-2f28314239f8');\n",
              "          const dataTable =\n",
              "            await google.colab.kernel.invokeFunction('convertToInteractive',\n",
              "                                                     [key], {});\n",
              "          if (!dataTable) return;\n",
              "\n",
              "          const docLinkHtml = 'Like what you see? Visit the ' +\n",
              "            '<a target=\"_blank\" href=https://colab.research.google.com/notebooks/data_table.ipynb>data table notebook</a>'\n",
              "            + ' to learn more about interactive tables.';\n",
              "          element.innerHTML = '';\n",
              "          dataTable['output_type'] = 'display_data';\n",
              "          await google.colab.output.renderOutput(dataTable, element);\n",
              "          const docLink = document.createElement('div');\n",
              "          docLink.innerHTML = docLinkHtml;\n",
              "          element.appendChild(docLink);\n",
              "        }\n",
              "      </script>\n",
              "    </div>\n",
              "  </div>\n",
              "  "
            ]
          },
          "metadata": {},
          "execution_count": 7
        }
      ],
      "source": [
        "def user_wise_split(df, userCol, itemCol, test_size=0.25):\n",
        "    all_user = df[userCol].drop_duplicates()\n",
        "    train_user, test_user = train_test_split(all_user, test_size=test_size)\n",
        "\n",
        "    train_ratings = df[df[itemCol].isin(train_user)]\n",
        "    test_ratings = df[df[itemCol].isin(test_user)]\n",
        "    return train_ratings, test_ratings\n",
        "\n",
        "train_val, test = train_test_split(ratings, test_size= 0.25)\n",
        "train, valid = user_wise_split(train_val,userCol, itemCol, test_size=0.25 )\n",
        "train.head()"
      ]
    },
    {
      "cell_type": "markdown",
      "source": [
        "MODELING"
      ],
      "metadata": {
        "id": "0JMeQ9L7148j"
      }
    },
    {
      "cell_type": "code",
      "source": [
        "# Loss function\n",
        "def Focus2(alpha=0.01):\n",
        "    def cal_los(y_true, y_pred):\n",
        "        y_pred = tf.cast(y_pred, tf.float32)\n",
        "        y_true = tf.cast(y_true, tf.float32)\n",
        "\n",
        "        positive_true = y_true[y_true!=0]\n",
        "        positive_pred = y_pred[y_true!=0]\n",
        "        los1 = K.square(positive_true-positive_pred )\n",
        "\n",
        "        zero_true = y_true[y_true==0]\n",
        "        zero_pred = y_pred[y_true==0]\n",
        "        los2 =alpha*  K.square(zero_true-zero_pred )\n",
        "\n",
        "\n",
        "        return K.mean( tf.concat([los1, los2], axis=0) )\n",
        "    return cal_los\n",
        "\n",
        "y_true = tf.constant([1,0.2,0,1])\n",
        "y_pred = tf.constant([1,0,5.2,1.005])\n",
        "\n",
        "Focus2(0.01)(y_true, y_pred)\n"
      ],
      "metadata": {
        "colab": {
          "base_uri": "https://localhost:8080/"
        },
        "id": "bMge7CbePTco",
        "outputId": "1a5e577e-0c40-41f5-c3c4-54fa956b835b"
      },
      "execution_count": 8,
      "outputs": [
        {
          "output_type": "execute_result",
          "data": {
            "text/plain": [
              "<tf.Tensor: shape=(), dtype=float32, numpy=0.07760624>"
            ]
          },
          "metadata": {},
          "execution_count": 8
        }
      ]
    },
    {
      "cell_type": "code",
      "source": [
        "# EVALUATION Function\n",
        "def checkbox_rating(ratings, split_level = 3):\n",
        "  \"Convert ratings thang 5 điểm về binary\"\n",
        "  return np.where( ratings > split_level, 1, 0)\n",
        "\n",
        "def pair_iou(r1, r2):\n",
        "  \"\"\"Cho 2 bộ: rating1, rating2, dạng onehot => tính IOU\"\"\"\n",
        "  inter = np.multiply(r1,r2) > 0\n",
        "  union = (r1+r2) > 0\n",
        "\n",
        "  if np.sum(union) ==0:\n",
        "    return None\n",
        "  else:\n",
        "    inters = np.sum(inter, axis=1)\n",
        "    unions = np.sum(union, axis=1)\n",
        "    iou = np.mean(inters[unions>0]/unions[unions>0])\n",
        "    return iou \n",
        "\n",
        "def list_iou(ratings_):\n",
        "  ratings = ratings_.copy()\n",
        "  n = ratings.shape[0]\n",
        "  np.random.shuffle(ratings)\n",
        "\n",
        "  @delayed\n",
        "  def f_iou_i(i):\n",
        "      shift_ratings = np.roll(ratings, i+1)\n",
        "      iou_i = pair_iou(ratings, shift_ratings)\n",
        "      return iou_i\n",
        "\n",
        "\n",
        "  ious = Parallel(n_jobs=-1, backend = \"threading\")(f_iou_i(i) for i in range(10))\n",
        "  return np.mean(ious)\n",
        "\n",
        "\n",
        "def iou_cluster(Y_true, y_cluster_pred):\n",
        "    ious = []\n",
        "    for i in np.unique(y_cluster_pred):\n",
        "        ratings = Y_true[y_cluster_pred == i]\n",
        "        ious.append(list_iou(ratings))\n",
        "    return np.mean(ious), ious"
      ],
      "metadata": {
        "id": "ixmMqBvHxwqj"
      },
      "execution_count": 9,
      "outputs": []
    },
    {
      "cell_type": "markdown",
      "source": [
        "SIMPLE CF"
      ],
      "metadata": {
        "id": "YMU4lliPx9Y5"
      }
    },
    {
      "cell_type": "code",
      "execution_count": 10,
      "metadata": {
        "id": "oeQYJdMBfqyF"
      },
      "outputs": [],
      "source": [
        "# Pivot value, keeping just top_item popular the most\n",
        "def get_cf_ft(ratings, top_item = 300):\n",
        "    top_items = list(train.groupby(itemCol).count()[\"rating\"].sort_values(ascending=False)\\\n",
        "                     .head(top_item).index)\n",
        "    ratings_ = ratings[ratings[itemCol].isin(top_items)]\n",
        "    cf_fts= ratings_.pivot(index=userCol, columns=itemCol, values = \"rating\")\n",
        "    return cf_fts\n",
        "\n",
        "# Get feature and label, random spliting from a full dataset\n",
        "def get_ft_lb(ratings, test_size=0.25, top_item=300):\n",
        "    ft, lb = train_test_split(ratings, test_size= test_size)\n",
        "    ft_pv = get_cf_ft(ft, top_item)\n",
        "    lb_pv = get_cf_ft(ft, top_item)\n",
        "\n",
        "    X = ft_pv.values\n",
        "    y = lb_pv.reindex(ft_pv.index).values\n",
        "    return X, y, ft_pv.index\n",
        "X_cf, y, user_ind = get_ft_lb(train, test_size=0.25)\n"
      ]
    },
    {
      "cell_type": "code",
      "source": [
        "X_cf.shape, y.shape"
      ],
      "metadata": {
        "colab": {
          "base_uri": "https://localhost:8080/"
        },
        "id": "z2_vkCHsOc30",
        "outputId": "f57da82b-747d-451b-9062-0ceb9697326c"
      },
      "execution_count": 11,
      "outputs": [
        {
          "output_type": "execute_result",
          "data": {
            "text/plain": [
              "((136136, 300), (136136, 300))"
            ]
          },
          "metadata": {},
          "execution_count": 11
        }
      ]
    },
    {
      "cell_type": "code",
      "execution_count": null,
      "metadata": {
        "colab": {
          "base_uri": "https://localhost:8080/"
        },
        "id": "CqD5umqzaOXS",
        "outputId": "1a1e3c26-035b-41b1-d2fd-3019d94c2d28"
      },
      "outputs": [
        {
          "output_type": "stream",
          "name": "stdout",
          "text": [
            "Epoch 1/5\n",
            "2130/2130 [==============================] - 11s 5ms/step - loss: 0.6520\n",
            "Epoch 2/5\n",
            "2130/2130 [==============================] - 6s 3ms/step - loss: 0.3364\n",
            "Epoch 3/5\n",
            "2130/2130 [==============================] - 6s 3ms/step - loss: 0.3135\n",
            "Epoch 4/5\n",
            "2130/2130 [==============================] - 6s 3ms/step - loss: 0.3051\n",
            "Epoch 5/5\n",
            "2130/2130 [==============================] - 6s 3ms/step - loss: 0.2985\n"
          ]
        },
        {
          "output_type": "execute_result",
          "data": {
            "text/plain": [
              "<keras.callbacks.History at 0x7f71b0f30c50>"
            ]
          },
          "metadata": {},
          "execution_count": 11
        }
      ],
      "source": [
        "# Math model\n",
        "n_ft = X_cf.shape[1]\n",
        "n_clusters = 25\n",
        "n_lb = y.shape[1]\n",
        "model = tf.keras.Sequential([\n",
        "          tf.keras.layers.Input(n_ft),\n",
        "          tf.keras.layers.Dense(n_clusters, activation='softmax'),\n",
        "        #   tf.keras.layers.Dense(int(n_clusters/4), activation='softmax'),\n",
        "          tf.keras.layers.Dense(n_lb)\n",
        "])\n",
        "\n",
        "model.compile( optimizer='adam', loss= Focus2(0.05))\n",
        "model.fit(np.nan_to_num(X_cf), np.nan_to_num(y), epochs=5, batch_size=64)"
      ]
    },
    {
      "cell_type": "code",
      "execution_count": null,
      "metadata": {
        "id": "bEA0CpkVjmce",
        "colab": {
          "base_uri": "https://localhost:8080/"
        },
        "outputId": "5928e2a6-4fac-4592-edaf-16ca80d9acab"
      },
      "outputs": [
        {
          "output_type": "stream",
          "name": "stdout",
          "text": [
            "tf.Tensor(\n",
            "[0.0000000e+00 3.6926485e-07 5.2853051e-05 6.3609052e-04 0.0000000e+00\n",
            " 0.0000000e+00 3.9632429e-11 7.7724529e-18 0.0000000e+00 0.0000000e+00\n",
            " 1.8855225e-16 0.0000000e+00 0.0000000e+00 8.2715757e-02 0.0000000e+00\n",
            " 0.0000000e+00 5.6058341e-17 0.0000000e+00 4.5427034e-14 9.1464311e-01\n",
            " 0.0000000e+00 1.9518479e-03 0.0000000e+00 0.0000000e+00 0.0000000e+00], shape=(25,), dtype=float32) 19\n",
            "1 : 4263\n",
            "2 : 12602\n",
            "3 : 5991\n",
            "6 : 25947\n",
            "7 : 1028\n",
            "10 : 7444\n",
            "13 : 16617\n",
            "16 : 13778\n",
            "18 : 8751\n",
            "19 : 32770\n",
            "21 : 7081\n"
          ]
        }
      ],
      "source": [
        "lv1 = model.layers[0](np.nan_to_num(X_cf))\n",
        "lv1_ind = np.argmax(lv1, axis=1)\n",
        "k=10\n",
        "print(lv1[k], lv1_ind[k])\n",
        "\n",
        "for i in np.unique(lv1_ind):\n",
        "    print(i,\":\", np.sum(lv1_ind==i))"
      ]
    },
    {
      "cell_type": "code",
      "source": [
        "def iou_cluster(Y_true, y_cluster_pred):\n",
        "    ious = []\n",
        "    ns = []\n",
        "    for i in np.unique(y_cluster_pred):\n",
        "        ratings = Y_true[y_cluster_pred == i]\n",
        "        ns.append(ratings.shape[0])\n",
        "        ious.append(list_iou(ratings))\n",
        "    ns_arr = np.array(ns)\n",
        "    ious_arr = np.array(ious)\n",
        "    return np.sum(ns_arr*ious_arr)/np.sum(ns_arr)"
      ],
      "metadata": {
        "id": "Su5kOSL9JMzT"
      },
      "execution_count": null,
      "outputs": []
    },
    {
      "cell_type": "code",
      "source": [
        "y_checkbox = checkbox_rating(y)\n",
        "iou = iou_cluster(y_checkbox, lv1_ind)\n",
        "print(iou)"
      ],
      "metadata": {
        "colab": {
          "base_uri": "https://localhost:8080/"
        },
        "id": "eCaruPv-IfeC",
        "outputId": "61a251f2-5c87-4543-eea8-541f4da43ed5"
      },
      "execution_count": null,
      "outputs": [
        {
          "output_type": "stream",
          "name": "stdout",
          "text": [
            "0.04855981074605795\n"
          ]
        }
      ]
    },
    {
      "cell_type": "code",
      "execution_count": null,
      "metadata": {
        "id": "SvnkPxJCkxos"
      },
      "outputs": [],
      "source": [
        "# lv2 = model.layers[1](lv1)\n",
        "# lv2_ind = np.argmax(lv2, axis=1)\n",
        "# for i in np.unique(lv2_ind):\n",
        "#     print(i,\":\", np.sum(lv2_ind==i))"
      ]
    },
    {
      "cell_type": "markdown",
      "source": [
        "# CF + CB model"
      ],
      "metadata": {
        "id": "2BpCR7rv1wwX"
      }
    },
    {
      "cell_type": "code",
      "execution_count": null,
      "metadata": {
        "id": "NciDjyx9l86-",
        "colab": {
          "base_uri": "https://localhost:8080/"
        },
        "outputId": "5c972648-a9c7-484b-bd81-ee621233a7a3"
      },
      "outputs": [
        {
          "output_type": "stream",
          "name": "stdout",
          "text": [
            "CPU times: user 1min 24s, sys: 28.7 s, total: 1min 53s\n",
            "Wall time: 1min 54s\n"
          ]
        }
      ],
      "source": [
        "%%time\n",
        "def vectorize_arr(movies, itemCol, arrCol, outCol = \"genre_vec\"):\n",
        "\n",
        "    out = movies.explode(arrCol)\n",
        "    columns = out[arrCol].drop_duplicates()\n",
        "    out[\"value\"]=1\n",
        "\n",
        "    out = out.pivot(index=itemCol, columns = arrCol, values=\"value\").fillna(0)\n",
        "    out[outCol] = out.apply(lambda x: np.array(x[columns]), axis=1)\n",
        "    return out.drop(columns, axis=1)\n",
        "\n",
        "def cb_ft(ratings, movies,userCol ,itemCol, user_ind=None):\n",
        "    movie_attr = vectorize_arr(movies,itemCol, arrCol='genre_arr')\n",
        "    train_ft = ratings.merge(movie_attr, on=itemCol)\n",
        "    train_ft['rating_attr'] = train_ft['rating'] * train_ft['genre_vec']\n",
        "    train_ft_byu = train_ft.groupby(userCol).agg({'rating_attr':\"mean\"})\n",
        "    if user_ind is not None:\n",
        "        train_ft_byu = train_ft_byu.reindex(user_ind)\n",
        "        \n",
        "    list_ar = [x[0] for x in train_ft_byu.values]\n",
        "    X_cb = np.stack(list_ar, axis=0)\n",
        "    return X_cb\n",
        "\n",
        "X_cfcb = np.hstack([np.nan_to_num(X_cf),\n",
        "                   cb_ft(train, movies, userCol ,itemCol, user_ind)\n",
        "                   ])"
      ]
    },
    {
      "cell_type": "code",
      "source": [
        "X_cfcb.shape"
      ],
      "metadata": {
        "colab": {
          "base_uri": "https://localhost:8080/"
        },
        "id": "3YQAA9wS7qEI",
        "outputId": "e32b7f1b-f791-4883-8e12-00e497f23919"
      },
      "execution_count": null,
      "outputs": [
        {
          "output_type": "execute_result",
          "data": {
            "text/plain": [
              "(136272, 320)"
            ]
          },
          "metadata": {},
          "execution_count": 147
        }
      ]
    },
    {
      "cell_type": "code",
      "source": [
        "# Math model\n",
        "n_ft = X_cfcb.shape[1]\n",
        "n_clusters = 25\n",
        "n_lb = y.shape[1]\n",
        "model2 = tf.keras.Sequential([\n",
        "          tf.keras.layers.Input(n_ft),\n",
        "          tf.keras.layers.BatchNormalization(),\n",
        "          tf.keras.layers.Dense(n_clusters, activation='softmax'),\n",
        "        #   tf.keras.layers.Dense(int(n_clusters/4), activation='softmax'),\n",
        "          tf.keras.layers.Dense(n_lb)\n",
        "])\n",
        "\n",
        "model2.compile( optimizer='adam', loss= Focus2(0.01) )\n",
        "model2.fit(np.nan_to_num(X_cfcb), np.nan_to_num(y), epochs=5, batch_size=128)"
      ],
      "metadata": {
        "colab": {
          "base_uri": "https://localhost:8080/"
        },
        "id": "NjIWeMO57KfE",
        "outputId": "948ca7f1-caa5-4872-9f00-7f36bae65182"
      },
      "execution_count": null,
      "outputs": [
        {
          "output_type": "stream",
          "name": "stdout",
          "text": [
            "Epoch 1/5\n",
            "1065/1065 [==============================] - 6s 4ms/step - loss: 0.7661\n",
            "Epoch 2/5\n",
            "1065/1065 [==============================] - 5s 5ms/step - loss: 0.2833\n",
            "Epoch 3/5\n",
            "1065/1065 [==============================] - 5s 4ms/step - loss: 0.1885\n",
            "Epoch 4/5\n",
            "1065/1065 [==============================] - 5s 5ms/step - loss: 0.1665\n",
            "Epoch 5/5\n",
            "1065/1065 [==============================] - 5s 4ms/step - loss: 0.1520\n"
          ]
        },
        {
          "output_type": "execute_result",
          "data": {
            "text/plain": [
              "<keras.callbacks.History at 0x7f71acb2d950>"
            ]
          },
          "metadata": {},
          "execution_count": 148
        }
      ]
    },
    {
      "cell_type": "code",
      "source": [
        "lv1_2 = model2.layers[1](model2.layers[0](np.nan_to_num(X_cfcb)))\n",
        "lv1_ind_2 = np.argmax(lv1_2, axis=1)\n",
        "print(lv1_2[1])\n",
        "\n",
        "for i in np.unique(lv1_ind_2):\n",
        "    print(i,\":\", np.sum(lv1_ind_2==i))\n",
        "\n",
        "y_checkbox = checkbox_rating(y)\n",
        "iou = iou_cluster(y_checkbox, lv1_ind_2)\n",
        "print(iou)"
      ],
      "metadata": {
        "colab": {
          "base_uri": "https://localhost:8080/"
        },
        "id": "8zB0tz-k7bGv",
        "outputId": "0f6f4566-cc10-428c-f3d7-3c16f2d682da"
      },
      "execution_count": null,
      "outputs": [
        {
          "output_type": "stream",
          "name": "stdout",
          "text": [
            "tf.Tensor(\n",
            "[4.8878923e-02 9.0589845e-01 3.3117320e-02 5.5799336e-07 1.5746822e-07\n",
            " 1.2319317e-07 6.5119423e-07 5.5146280e-08 1.4830492e-06 1.6900875e-06\n",
            " 4.9764600e-07 2.0810081e-07 5.8337026e-08 1.2091854e-02 1.6287899e-07\n",
            " 1.0708258e-06 1.2668285e-07 1.3519192e-06 1.2261555e-07 1.2528376e-07\n",
            " 7.5136279e-07 4.2966337e-07 2.1386481e-06 1.3521255e-06 2.5005508e-07], shape=(25,), dtype=float32)\n",
            "0 : 5308\n",
            "1 : 65836\n",
            "2 : 34350\n",
            "13 : 30778\n"
          ]
        }
      ]
    },
    {
      "cell_type": "code",
      "source": [
        "y_checkbox = checkbox_rating(y)\n",
        "iou = iou_cluster(y_checkbox, lv1_ind_2)\n",
        "print(iou)"
      ],
      "metadata": {
        "colab": {
          "base_uri": "https://localhost:8080/"
        },
        "id": "BzfHgZKUIkYu",
        "outputId": "a2e9f5cd-b097-4057-984c-873687b3812e"
      },
      "execution_count": null,
      "outputs": [
        {
          "output_type": "stream",
          "name": "stdout",
          "text": [
            "0.048564875860609744\n"
          ]
        }
      ]
    },
    {
      "cell_type": "code",
      "source": [
        "iou"
      ],
      "metadata": {
        "colab": {
          "base_uri": "https://localhost:8080/"
        },
        "id": "vwVDIBNlIWGS",
        "outputId": "025b2ab4-82e3-4150-a1ec-e7725c8a3be2"
      },
      "execution_count": null,
      "outputs": [
        {
          "output_type": "execute_result",
          "data": {
            "text/plain": [
              "(0.038822547957990214,\n",
              " [0.027230876383575443,\n",
              "  0.06755595101438942,\n",
              "  0.045932047038996386,\n",
              "  0.014571317394999598])"
            ]
          },
          "metadata": {},
          "execution_count": 156
        }
      ]
    },
    {
      "cell_type": "code",
      "source": [
        "y[lv1_ind==12].shape"
      ],
      "metadata": {
        "colab": {
          "base_uri": "https://localhost:8080/"
        },
        "id": "Y1kWfgWyveJ7",
        "outputId": "98974744-0c50-47f6-cd08-90c7dcf666f1"
      },
      "execution_count": null,
      "outputs": [
        {
          "output_type": "execute_result",
          "data": {
            "text/plain": [
              "(104861, 300)"
            ]
          },
          "metadata": {},
          "execution_count": 23
        }
      ]
    },
    {
      "cell_type": "markdown",
      "source": [
        "BASELINE: KMEANS"
      ],
      "metadata": {
        "id": "JQ5Z-ly9Jkqa"
      }
    },
    {
      "cell_type": "code",
      "source": [
        "# KMeans với CF feature\n",
        "km1 = sklearn.cluster.KMeans(30)\n",
        "km1.fit(np.nan_to_num(X_cf), np.nan_to_num(y))\n",
        "\n",
        "km1_ind = km1.predict(np.nan_to_num(X_cf))\n",
        "\n",
        "for i in np.unique(km1_ind):\n",
        "    print(i,\":\", np.sum(km1_ind==i))"
      ],
      "metadata": {
        "colab": {
          "base_uri": "https://localhost:8080/"
        },
        "id": "yNz_rfdxKVBM",
        "outputId": "eb22a1e0-7252-4e68-f516-60d8f1025495"
      },
      "execution_count": 22,
      "outputs": [
        {
          "output_type": "stream",
          "name": "stdout",
          "text": [
            "0 : 3735\n",
            "1 : 5103\n",
            "2 : 3651\n",
            "3 : 28236\n",
            "4 : 1509\n",
            "5 : 3148\n",
            "6 : 4910\n",
            "7 : 2662\n",
            "8 : 6337\n",
            "9 : 3585\n",
            "10 : 2228\n",
            "11 : 1786\n",
            "12 : 6835\n",
            "13 : 3643\n",
            "14 : 2033\n",
            "15 : 2290\n",
            "16 : 3362\n",
            "17 : 2511\n",
            "18 : 3025\n",
            "19 : 5205\n",
            "20 : 3667\n",
            "21 : 6933\n",
            "22 : 4172\n",
            "23 : 1573\n",
            "24 : 6591\n",
            "25 : 2814\n",
            "26 : 3778\n",
            "27 : 2502\n",
            "28 : 4262\n",
            "29 : 4050\n"
          ]
        }
      ]
    },
    {
      "cell_type": "code",
      "source": [
        "# y_checkbox = checkbox_rating(y)\n",
        "iou = iou_cluster(y_checkbox, km1_ind)\n",
        "print(iou)"
      ],
      "metadata": {
        "colab": {
          "base_uri": "https://localhost:8080/"
        },
        "id": "yk6FvP5XKsVr",
        "outputId": "eaca4720-bf37-4927-87c6-1defd5634976"
      },
      "execution_count": 24,
      "outputs": [
        {
          "output_type": "stream",
          "name": "stdout",
          "text": [
            "(0.06551109004538001, [0.051300102585774984, 0.024365192655966185, 0.024853163246359635, 0.012001319227133296, 0.13953685576858874, 0.0863151013176753, 0.02049251018616803, 0.04047797321867961, 0.04666130208628209, 0.05339072562487931, 0.10854351726650686, 0.1278108318481522, 0.031377193193344366, 0.052143698341301746, 0.09662009655961872, 0.08652585303063909, 0.04474056012962516, 0.13370837388353732, 0.09422166863419022, 0.018045335464669805, 0.05495235832424149, 0.016045409855348275, 0.05266900652944258, 0.1924594570116518, 0.034510061426268855, 0.0634149293147595, 0.03568962978827072, 0.09209952917513056, 0.04023548441702231, 0.09012546125017165])\n"
          ]
        }
      ]
    },
    {
      "cell_type": "code",
      "source": [
        "# KMeans với CFCB feature\n",
        "km2 = sklearn.cluster.KMeans()\n",
        "km2.fit(np.nan_to_num(X_cfcb), np.nan_to_num(y))\n",
        "\n",
        "km2_ind = km2.predict(np.nan_to_num(X_cfcb))\n",
        "\n",
        "for i in np.unique(km2_ind):\n",
        "    print(i,\":\", np.sum(km2_ind==i))"
      ],
      "metadata": {
        "colab": {
          "base_uri": "https://localhost:8080/"
        },
        "id": "ORNTzKT8LB3K",
        "outputId": "3a2e7b1c-3fd5-4dd9-a5ed-bb3816492982"
      },
      "execution_count": null,
      "outputs": [
        {
          "output_type": "stream",
          "name": "stdout",
          "text": [
            "0 : 51748\n",
            "1 : 21094\n",
            "2 : 17926\n",
            "3 : 7592\n",
            "4 : 10956\n",
            "5 : 6193\n",
            "6 : 9278\n",
            "7 : 11485\n"
          ]
        }
      ]
    },
    {
      "cell_type": "code",
      "source": [
        "# y_checkbox = checkbox_rating(y)\n",
        "iou = iou_cluster(y_checkbox, km2_ind)\n",
        "print(iou)"
      ],
      "metadata": {
        "colab": {
          "base_uri": "https://localhost:8080/"
        },
        "id": "Wiag_pYtLNTM",
        "outputId": "7ce71c0c-40f6-469e-ec17-7052e48eb1cf"
      },
      "execution_count": null,
      "outputs": [
        {
          "output_type": "stream",
          "name": "stdout",
          "text": [
            "0.04851188868586251\n"
          ]
        }
      ]
    },
    {
      "cell_type": "markdown",
      "source": [
        "Kmeans-supervised"
      ],
      "metadata": {
        "id": "nqu_7-CdKYCH"
      }
    },
    {
      "cell_type": "code",
      "source": [
        "# KMeans với CFCB feature\n",
        "n_clusters = 30\n",
        "kmy = sklearn.cluster.KMeans(n_clusters)\n",
        "kmy.fit(np.nan_to_num(y))\n",
        "\n",
        "y_clust = kmy.predict(np.nan_to_num(y))\n",
        "\n",
        "for i in np.unique(y_clust):\n",
        "    print(i,\":\", np.sum(y_clust==i))"
      ],
      "metadata": {
        "id": "nKlvOOBSKaqx",
        "outputId": "1d01fb74-4e12-4fe0-bd47-a8074c7deb91",
        "colab": {
          "base_uri": "https://localhost:8080/"
        }
      },
      "execution_count": 16,
      "outputs": [
        {
          "output_type": "stream",
          "name": "stdout",
          "text": [
            "0 : 2817\n",
            "1 : 4216\n",
            "2 : 3172\n",
            "3 : 6868\n",
            "4 : 2416\n",
            "5 : 4728\n",
            "6 : 5508\n",
            "7 : 7074\n",
            "8 : 3375\n",
            "9 : 1501\n",
            "10 : 1661\n",
            "11 : 1640\n",
            "12 : 3887\n",
            "13 : 2080\n",
            "14 : 3660\n",
            "15 : 4133\n",
            "16 : 2578\n",
            "17 : 3845\n",
            "18 : 4123\n",
            "19 : 5229\n",
            "20 : 5355\n",
            "21 : 2041\n",
            "22 : 4810\n",
            "23 : 5154\n",
            "24 : 2297\n",
            "25 : 28430\n",
            "26 : 3026\n",
            "27 : 3906\n",
            "28 : 3963\n",
            "29 : 2643\n"
          ]
        }
      ]
    },
    {
      "cell_type": "code",
      "source": [
        "# Math model\n",
        "n_ft = X_cf.shape[1]\n",
        "n_lb = y.shape[1]\n",
        "model = tf.keras.Sequential([\n",
        "          tf.keras.layers.Input(n_ft),\n",
        "          tf.keras.layers.Dense(n_clusters, activation='softmax')\n",
        "])\n",
        "\n",
        "model.compile( optimizer='adam', loss='categorical_crossentropy', metrics = [\"accuracy\"])\n",
        "model.fit(np.nan_to_num(X_cf), tf.keras.utils.to_categorical(y_clust), epochs=5, batch_size=64)"
      ],
      "metadata": {
        "id": "W5Tl2ILAMouU",
        "outputId": "21af6eaf-6131-4b80-9ef3-b020d3fe6107",
        "colab": {
          "base_uri": "https://localhost:8080/"
        }
      },
      "execution_count": 19,
      "outputs": [
        {
          "output_type": "stream",
          "name": "stdout",
          "text": [
            "Epoch 1/5\n",
            "2128/2128 [==============================] - 6s 2ms/step - loss: 1.2968 - accuracy: 0.6352\n",
            "Epoch 2/5\n",
            "2128/2128 [==============================] - 3s 2ms/step - loss: 0.6299 - accuracy: 0.8041\n",
            "Epoch 3/5\n",
            "2128/2128 [==============================] - 3s 2ms/step - loss: 0.4999 - accuracy: 0.8304\n",
            "Epoch 4/5\n",
            "2128/2128 [==============================] - 3s 2ms/step - loss: 0.4397 - accuracy: 0.8459\n",
            "Epoch 5/5\n",
            "2128/2128 [==============================] - 3s 2ms/step - loss: 0.4036 - accuracy: 0.8558\n"
          ]
        },
        {
          "output_type": "execute_result",
          "data": {
            "text/plain": [
              "<keras.callbacks.History at 0x7f0c36d494d0>"
            ]
          },
          "metadata": {},
          "execution_count": 19
        }
      ]
    },
    {
      "cell_type": "code",
      "source": [
        "y_pred_prob = model.layers[0](np.nan_to_num(X_cf))\n",
        "y_pred_clus = np.argmax(y_pred_prob, axis=1)\n",
        "\n",
        "for i in np.unique(y_pred_clus):\n",
        "    print(i,\":\", np.sum(y_pred_clus==i))\n",
        "\n",
        "y_checkbox = checkbox_rating(y)\n",
        "iou = iou_cluster(y_checkbox, y_pred_clus)\n",
        "print(iou)"
      ],
      "metadata": {
        "id": "HXZjrLp5RRzr",
        "outputId": "e768a46e-be4d-40f5-e648-0bbf86133a84",
        "colab": {
          "base_uri": "https://localhost:8080/"
        }
      },
      "execution_count": 21,
      "outputs": [
        {
          "output_type": "stream",
          "name": "stdout",
          "text": [
            "0 : 3184\n",
            "1 : 4254\n",
            "2 : 3204\n",
            "3 : 7025\n",
            "4 : 2364\n",
            "5 : 4490\n",
            "6 : 5680\n",
            "7 : 7194\n",
            "8 : 3277\n",
            "9 : 1580\n",
            "10 : 1760\n",
            "11 : 1847\n",
            "12 : 4025\n",
            "13 : 2269\n",
            "14 : 3501\n",
            "15 : 3928\n",
            "16 : 2839\n",
            "17 : 4378\n",
            "18 : 4173\n",
            "19 : 5091\n",
            "20 : 5305\n",
            "21 : 2155\n",
            "22 : 5159\n",
            "23 : 5322\n",
            "24 : 2564\n",
            "25 : 28099\n",
            "26 : 2444\n",
            "27 : 3373\n",
            "28 : 3471\n",
            "29 : 2181\n",
            "(0.06441493103959742, [0.0635124326354414, 0.04321827606823396, 0.08222716563117302, 0.031052090389102376, 0.12541580600285307, 0.03944720514375409, 0.0364853074924961, 0.01586036800972653, 0.05524769714956853, 0.1672099157553426, 0.12021523947539352, 0.12786506623050645, 0.08388571266507093, 0.10748239209560642, 0.0434012803464212, 0.032169781632162775, 0.06599227042592934, 0.07069585256354015, 0.0529180897803692, 0.01834785207477414, 0.024400364093429466, 0.09176428643167274, 0.04740704883718473, 0.022368895219431813, 0.09419788985266404, 0.012476548391453565, 0.07838794549733281, 0.04101012212405657, 0.048852387729193356, 0.08893264144403755])\n"
          ]
        }
      ]
    },
    {
      "cell_type": "code",
      "source": [
        ""
      ],
      "metadata": {
        "id": "Xqsr9mXcRnCx"
      },
      "execution_count": null,
      "outputs": []
    },
    {
      "cell_type": "markdown",
      "source": [
        "EVALUATION"
      ],
      "metadata": {
        "id": "lxj5d4xjxWB0"
      }
    },
    {
      "cell_type": "code",
      "source": [
        ""
      ],
      "metadata": {
        "id": "WAvpNtR5JicU"
      },
      "execution_count": null,
      "outputs": []
    },
    {
      "cell_type": "code",
      "source": [
        "%%time\n",
        "# y_checkbox = checkbox_rating(y)\n",
        "iou = iou_cluster(y_checkbox, lv1_ind)\n",
        "iou"
      ],
      "metadata": {
        "colab": {
          "base_uri": "https://localhost:8080/"
        },
        "id": "z1xso_0hxXRk",
        "outputId": "f56e8202-4f87-47ee-dee4-77d0bede77f6"
      },
      "execution_count": null,
      "outputs": [
        {
          "output_type": "stream",
          "name": "stdout",
          "text": [
            "CPU times: user 8.21 s, sys: 535 ms, total: 8.75 s\n",
            "Wall time: 6.53 s\n"
          ]
        }
      ]
    },
    {
      "cell_type": "code",
      "source": [
        "iou"
      ],
      "metadata": {
        "colab": {
          "base_uri": "https://localhost:8080/"
        },
        "id": "weY9MN89A4n_",
        "outputId": "8d98eb18-ac13-4939-8cec-7d2868fe3276"
      },
      "execution_count": null,
      "outputs": [
        {
          "output_type": "execute_result",
          "data": {
            "text/plain": [
              "(0.04908920674218443,\n",
              " [0.04986259549791176,\n",
              "  0.048524567452345894,\n",
              "  0.04903010774764126,\n",
              "  0.04918971024521553,\n",
              "  0.051314851740290414,\n",
              "  0.04847542653007918,\n",
              "  0.048861613324826005,\n",
              "  0.04891807578062232,\n",
              "  0.04830921677197546,\n",
              "  0.04891970371456544,\n",
              "  0.04857540535855545])"
            ]
          },
          "metadata": {},
          "execution_count": 144
        }
      ]
    },
    {
      "cell_type": "code",
      "source": [
        "k = 10\n",
        "r1 = y_checkbox[lv1_ind== k]\n",
        "shift_r1 = np.roll(r1, 10)\n",
        "iou_i = pair_iou(shift_r1, r1 )\n",
        "iou_i"
      ],
      "metadata": {
        "colab": {
          "base_uri": "https://localhost:8080/"
        },
        "id": "SJ3B__6vxg2r",
        "outputId": "8479040a-e4f9-4595-ed70-01577d5faa64"
      },
      "execution_count": null,
      "outputs": [
        {
          "output_type": "stream",
          "name": "stderr",
          "text": [
            "/usr/local/lib/python3.7/dist-packages/ipykernel_launcher.py:14: RuntimeWarning: invalid value encountered in true_divide\n",
            "  \n"
          ]
        },
        {
          "output_type": "execute_result",
          "data": {
            "text/plain": [
              "nan"
            ]
          },
          "metadata": {},
          "execution_count": 105
        }
      ]
    },
    {
      "cell_type": "code",
      "source": [
        "import gc\n",
        "gc.collect()"
      ],
      "metadata": {
        "colab": {
          "base_uri": "https://localhost:8080/"
        },
        "id": "ZF0iDhHpDASH",
        "outputId": "6548e964-ae08-4dcf-f072-af17f9a23326"
      },
      "execution_count": null,
      "outputs": [
        {
          "output_type": "execute_result",
          "data": {
            "text/plain": [
              "858"
            ]
          },
          "metadata": {},
          "execution_count": 150
        }
      ]
    },
    {
      "cell_type": "code",
      "source": [
        "\n"
      ],
      "metadata": {
        "colab": {
          "base_uri": "https://localhost:8080/"
        },
        "id": "ilBUYDuBBgsC",
        "outputId": "3455f846-3a0c-4fae-e5f2-c9fe1e742934"
      },
      "execution_count": null,
      "outputs": [
        {
          "output_type": "stream",
          "name": "stdout",
          "text": [
            "0.6666666666666666\n"
          ]
        }
      ]
    },
    {
      "cell_type": "code",
      "source": [
        "iou_i"
      ],
      "metadata": {
        "colab": {
          "base_uri": "https://localhost:8080/"
        },
        "id": "DPryzg6VAnxo",
        "outputId": "8e7ede26-bda9-4138-c0a0-6ebd8f9182b0"
      },
      "execution_count": null,
      "outputs": [
        {
          "output_type": "execute_result",
          "data": {
            "text/plain": [
              "0.04487990623572415"
            ]
          },
          "metadata": {},
          "execution_count": 117
        }
      ]
    },
    {
      "cell_type": "code",
      "source": [
        "np.unique(lv1_ind)"
      ],
      "metadata": {
        "colab": {
          "base_uri": "https://localhost:8080/"
        },
        "id": "Y5eDN3J4xhCj",
        "outputId": "d2b4f2a0-11d6-4060-c882-9f5c3df5518b"
      },
      "execution_count": null,
      "outputs": [
        {
          "output_type": "execute_result",
          "data": {
            "text/plain": [
              "array([ 1,  2,  3,  6,  7, 10, 13, 16, 18, 19, 21])"
            ]
          },
          "metadata": {},
          "execution_count": 36
        }
      ]
    },
    {
      "cell_type": "code",
      "source": [
        ""
      ],
      "metadata": {
        "id": "7LaQte439G4P"
      },
      "execution_count": null,
      "outputs": []
    }
  ],
  "metadata": {
    "colab": {
      "collapsed_sections": [],
      "name": "Movielen_ClusterRecom.ipynb",
      "provenance": [],
      "authorship_tag": "ABX9TyMCeyHvRtN3EJlRFPIumRW7",
      "include_colab_link": true
    },
    "kernelspec": {
      "display_name": "Python 3",
      "name": "python3"
    },
    "language_info": {
      "name": "python"
    }
  },
  "nbformat": 4,
  "nbformat_minor": 0
}