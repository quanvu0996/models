{
  "cells": [
    {
      "cell_type": "markdown",
      "metadata": {
        "id": "view-in-github",
        "colab_type": "text"
      },
      "source": [
        "<a href=\"https://colab.research.google.com/github/quanvu0996/models/blob/master/ML20M_sequence.ipynb\" target=\"_parent\"><img src=\"https://colab.research.google.com/assets/colab-badge.svg\" alt=\"Open In Colab\"/></a>"
      ]
    },
    {
      "cell_type": "code",
      "execution_count": 141,
      "metadata": {
        "colab": {
          "base_uri": "https://localhost:8080/"
        },
        "id": "zZQDJKGUAQqn",
        "outputId": "c690742e-53d4-4bc5-8d41-934749e33bd3"
      },
      "outputs": [
        {
          "output_type": "stream",
          "name": "stdout",
          "text": [
            "7.8\n",
            "svmem(total=13617745920, available=10995314688, percent=19.3, used=3585531904, free=8146731008, active=2760044544, inactive=2481360896, buffers=143646720, cached=1741836288, shared=1236992, slab=158351360)\n",
            "19.3\n",
            "80.74254544470162\n"
          ]
        }
      ],
      "source": [
        "import psutil\n",
        "# gives a single float value\n",
        "print(psutil.cpu_percent())\n",
        "# gives an object with many fields\n",
        "print(psutil.virtual_memory())\n",
        "# you can convert that object to a dictionary print(dict(psutil.virtual_memory()._asdict()))\n",
        "# you can have the percentage of used RAM\n",
        "print(psutil.virtual_memory().percent)\n",
        "# you can calculate percentage of available memory\n",
        "print(psutil.virtual_memory().available * 100 / psutil.virtual_memory().total)"
      ]
    },
    {
      "cell_type": "code",
      "execution_count": 208,
      "metadata": {
        "id": "XS6UHXPVAQqs"
      },
      "outputs": [],
      "source": [
        "import pandas as pd\n",
        "import numpy as np\n",
        "import random\n",
        "import tensorflow as tf\n",
        "from tensorflow.keras import layers\n",
        "import tensorflow.keras.backend as K\n",
        "from sklearn.model_selection import train_test_split"
      ]
    },
    {
      "cell_type": "code",
      "source": [
        "tf.__version__"
      ],
      "metadata": {
        "colab": {
          "base_uri": "https://localhost:8080/",
          "height": 35
        },
        "id": "Gv8gXemwD3UQ",
        "outputId": "cfd0911f-8f0d-4747-adb3-4eb8d424e34a"
      },
      "execution_count": 143,
      "outputs": [
        {
          "output_type": "execute_result",
          "data": {
            "text/plain": [
              "'2.8.0'"
            ],
            "application/vnd.google.colaboratory.intrinsic+json": {
              "type": "string"
            }
          },
          "metadata": {},
          "execution_count": 143
        }
      ]
    },
    {
      "cell_type": "code",
      "execution_count": 144,
      "metadata": {
        "colab": {
          "base_uri": "https://localhost:8080/"
        },
        "id": "ptdyl-P4AQqt",
        "outputId": "ef3c592d-bd79-4ecb-ef67-9cf12addccd4"
      },
      "outputs": [
        {
          "output_type": "execute_result",
          "data": {
            "text/plain": [
              "8447"
            ]
          },
          "metadata": {},
          "execution_count": 144
        }
      ],
      "source": [
        "import gc\n",
        "gc.collect()"
      ]
    },
    {
      "cell_type": "code",
      "execution_count": 145,
      "metadata": {
        "id": "Crhty6fiAQqu"
      },
      "outputs": [],
      "source": [
        "itemCol = 'movieId'\n",
        "userCol = 'userId'"
      ]
    },
    {
      "cell_type": "code",
      "source": [
        "# DGX setup\n",
        "# fpath = \"./ml-20m\" \n",
        "\n",
        "#colab setup\n",
        "from google.colab import drive\n",
        "drive.mount('/content/gdrive')\n",
        "fpath = \"/content/gdrive/MyDrive/RECOMMENDER_STUDIES/data/ml-20m\""
      ],
      "metadata": {
        "id": "xOJJy441A0w0",
        "colab": {
          "base_uri": "https://localhost:8080/"
        },
        "outputId": "6139defd-9727-48df-af52-6c25a1765241"
      },
      "execution_count": 146,
      "outputs": [
        {
          "output_type": "stream",
          "name": "stdout",
          "text": [
            "Drive already mounted at /content/gdrive; to attempt to forcibly remount, call drive.mount(\"/content/gdrive\", force_remount=True).\n"
          ]
        }
      ]
    },
    {
      "cell_type": "code",
      "execution_count": 147,
      "metadata": {
        "id": "vmZw50onAQq1"
      },
      "outputs": [],
      "source": [
        "ratings = pd.read_csv(fpath+'/ratings.csv')"
      ]
    },
    {
      "cell_type": "code",
      "source": [
        "ratings"
      ],
      "metadata": {
        "colab": {
          "base_uri": "https://localhost:8080/",
          "height": 419
        },
        "id": "jQck8YHxCPJ1",
        "outputId": "c72b316d-8240-4cf0-f32d-09dbf8f1494a"
      },
      "execution_count": 148,
      "outputs": [
        {
          "output_type": "execute_result",
          "data": {
            "text/plain": [
              "          userId  movieId  rating   timestamp\n",
              "0              1        2     3.5  1112486027\n",
              "1              1       29     3.5  1112484676\n",
              "2              1       32     3.5  1112484819\n",
              "3              1       47     3.5  1112484727\n",
              "4              1       50     3.5  1112484580\n",
              "...          ...      ...     ...         ...\n",
              "20000258  138493    68954     4.5  1258126920\n",
              "20000259  138493    69526     4.5  1259865108\n",
              "20000260  138493    69644     3.0  1260209457\n",
              "20000261  138493    70286     5.0  1258126944\n",
              "20000262  138493    71619     2.5  1255811136\n",
              "\n",
              "[20000263 rows x 4 columns]"
            ],
            "text/html": [
              "\n",
              "  <div id=\"df-37908f7f-ec2c-4b73-bc2e-fe07a08b2a6f\">\n",
              "    <div class=\"colab-df-container\">\n",
              "      <div>\n",
              "<style scoped>\n",
              "    .dataframe tbody tr th:only-of-type {\n",
              "        vertical-align: middle;\n",
              "    }\n",
              "\n",
              "    .dataframe tbody tr th {\n",
              "        vertical-align: top;\n",
              "    }\n",
              "\n",
              "    .dataframe thead th {\n",
              "        text-align: right;\n",
              "    }\n",
              "</style>\n",
              "<table border=\"1\" class=\"dataframe\">\n",
              "  <thead>\n",
              "    <tr style=\"text-align: right;\">\n",
              "      <th></th>\n",
              "      <th>userId</th>\n",
              "      <th>movieId</th>\n",
              "      <th>rating</th>\n",
              "      <th>timestamp</th>\n",
              "    </tr>\n",
              "  </thead>\n",
              "  <tbody>\n",
              "    <tr>\n",
              "      <th>0</th>\n",
              "      <td>1</td>\n",
              "      <td>2</td>\n",
              "      <td>3.5</td>\n",
              "      <td>1112486027</td>\n",
              "    </tr>\n",
              "    <tr>\n",
              "      <th>1</th>\n",
              "      <td>1</td>\n",
              "      <td>29</td>\n",
              "      <td>3.5</td>\n",
              "      <td>1112484676</td>\n",
              "    </tr>\n",
              "    <tr>\n",
              "      <th>2</th>\n",
              "      <td>1</td>\n",
              "      <td>32</td>\n",
              "      <td>3.5</td>\n",
              "      <td>1112484819</td>\n",
              "    </tr>\n",
              "    <tr>\n",
              "      <th>3</th>\n",
              "      <td>1</td>\n",
              "      <td>47</td>\n",
              "      <td>3.5</td>\n",
              "      <td>1112484727</td>\n",
              "    </tr>\n",
              "    <tr>\n",
              "      <th>4</th>\n",
              "      <td>1</td>\n",
              "      <td>50</td>\n",
              "      <td>3.5</td>\n",
              "      <td>1112484580</td>\n",
              "    </tr>\n",
              "    <tr>\n",
              "      <th>...</th>\n",
              "      <td>...</td>\n",
              "      <td>...</td>\n",
              "      <td>...</td>\n",
              "      <td>...</td>\n",
              "    </tr>\n",
              "    <tr>\n",
              "      <th>20000258</th>\n",
              "      <td>138493</td>\n",
              "      <td>68954</td>\n",
              "      <td>4.5</td>\n",
              "      <td>1258126920</td>\n",
              "    </tr>\n",
              "    <tr>\n",
              "      <th>20000259</th>\n",
              "      <td>138493</td>\n",
              "      <td>69526</td>\n",
              "      <td>4.5</td>\n",
              "      <td>1259865108</td>\n",
              "    </tr>\n",
              "    <tr>\n",
              "      <th>20000260</th>\n",
              "      <td>138493</td>\n",
              "      <td>69644</td>\n",
              "      <td>3.0</td>\n",
              "      <td>1260209457</td>\n",
              "    </tr>\n",
              "    <tr>\n",
              "      <th>20000261</th>\n",
              "      <td>138493</td>\n",
              "      <td>70286</td>\n",
              "      <td>5.0</td>\n",
              "      <td>1258126944</td>\n",
              "    </tr>\n",
              "    <tr>\n",
              "      <th>20000262</th>\n",
              "      <td>138493</td>\n",
              "      <td>71619</td>\n",
              "      <td>2.5</td>\n",
              "      <td>1255811136</td>\n",
              "    </tr>\n",
              "  </tbody>\n",
              "</table>\n",
              "<p>20000263 rows × 4 columns</p>\n",
              "</div>\n",
              "      <button class=\"colab-df-convert\" onclick=\"convertToInteractive('df-37908f7f-ec2c-4b73-bc2e-fe07a08b2a6f')\"\n",
              "              title=\"Convert this dataframe to an interactive table.\"\n",
              "              style=\"display:none;\">\n",
              "        \n",
              "  <svg xmlns=\"http://www.w3.org/2000/svg\" height=\"24px\"viewBox=\"0 0 24 24\"\n",
              "       width=\"24px\">\n",
              "    <path d=\"M0 0h24v24H0V0z\" fill=\"none\"/>\n",
              "    <path d=\"M18.56 5.44l.94 2.06.94-2.06 2.06-.94-2.06-.94-.94-2.06-.94 2.06-2.06.94zm-11 1L8.5 8.5l.94-2.06 2.06-.94-2.06-.94L8.5 2.5l-.94 2.06-2.06.94zm10 10l.94 2.06.94-2.06 2.06-.94-2.06-.94-.94-2.06-.94 2.06-2.06.94z\"/><path d=\"M17.41 7.96l-1.37-1.37c-.4-.4-.92-.59-1.43-.59-.52 0-1.04.2-1.43.59L10.3 9.45l-7.72 7.72c-.78.78-.78 2.05 0 2.83L4 21.41c.39.39.9.59 1.41.59.51 0 1.02-.2 1.41-.59l7.78-7.78 2.81-2.81c.8-.78.8-2.07 0-2.86zM5.41 20L4 18.59l7.72-7.72 1.47 1.35L5.41 20z\"/>\n",
              "  </svg>\n",
              "      </button>\n",
              "      \n",
              "  <style>\n",
              "    .colab-df-container {\n",
              "      display:flex;\n",
              "      flex-wrap:wrap;\n",
              "      gap: 12px;\n",
              "    }\n",
              "\n",
              "    .colab-df-convert {\n",
              "      background-color: #E8F0FE;\n",
              "      border: none;\n",
              "      border-radius: 50%;\n",
              "      cursor: pointer;\n",
              "      display: none;\n",
              "      fill: #1967D2;\n",
              "      height: 32px;\n",
              "      padding: 0 0 0 0;\n",
              "      width: 32px;\n",
              "    }\n",
              "\n",
              "    .colab-df-convert:hover {\n",
              "      background-color: #E2EBFA;\n",
              "      box-shadow: 0px 1px 2px rgba(60, 64, 67, 0.3), 0px 1px 3px 1px rgba(60, 64, 67, 0.15);\n",
              "      fill: #174EA6;\n",
              "    }\n",
              "\n",
              "    [theme=dark] .colab-df-convert {\n",
              "      background-color: #3B4455;\n",
              "      fill: #D2E3FC;\n",
              "    }\n",
              "\n",
              "    [theme=dark] .colab-df-convert:hover {\n",
              "      background-color: #434B5C;\n",
              "      box-shadow: 0px 1px 3px 1px rgba(0, 0, 0, 0.15);\n",
              "      filter: drop-shadow(0px 1px 2px rgba(0, 0, 0, 0.3));\n",
              "      fill: #FFFFFF;\n",
              "    }\n",
              "  </style>\n",
              "\n",
              "      <script>\n",
              "        const buttonEl =\n",
              "          document.querySelector('#df-37908f7f-ec2c-4b73-bc2e-fe07a08b2a6f button.colab-df-convert');\n",
              "        buttonEl.style.display =\n",
              "          google.colab.kernel.accessAllowed ? 'block' : 'none';\n",
              "\n",
              "        async function convertToInteractive(key) {\n",
              "          const element = document.querySelector('#df-37908f7f-ec2c-4b73-bc2e-fe07a08b2a6f');\n",
              "          const dataTable =\n",
              "            await google.colab.kernel.invokeFunction('convertToInteractive',\n",
              "                                                     [key], {});\n",
              "          if (!dataTable) return;\n",
              "\n",
              "          const docLinkHtml = 'Like what you see? Visit the ' +\n",
              "            '<a target=\"_blank\" href=https://colab.research.google.com/notebooks/data_table.ipynb>data table notebook</a>'\n",
              "            + ' to learn more about interactive tables.';\n",
              "          element.innerHTML = '';\n",
              "          dataTable['output_type'] = 'display_data';\n",
              "          await google.colab.output.renderOutput(dataTable, element);\n",
              "          const docLink = document.createElement('div');\n",
              "          docLink.innerHTML = docLinkHtml;\n",
              "          element.appendChild(docLink);\n",
              "        }\n",
              "      </script>\n",
              "    </div>\n",
              "  </div>\n",
              "  "
            ]
          },
          "metadata": {},
          "execution_count": 148
        }
      ]
    },
    {
      "cell_type": "code",
      "source": [
        "# Normalize rating về dạng -1 -> 1 (-1 = ghét, 1 = thích)\n",
        "ratings[\"y\"] = ratings[\"rating\"]/2.5-1"
      ],
      "metadata": {
        "id": "yIVvSPnCCWYb"
      },
      "execution_count": 149,
      "outputs": []
    },
    {
      "cell_type": "code",
      "source": [
        "ratings.groupby(\"y\")[\"y\"].count().plot(kind='bar')"
      ],
      "metadata": {
        "colab": {
          "base_uri": "https://localhost:8080/",
          "height": 419
        },
        "id": "BrwYHetxCiIw",
        "outputId": "4ddc4e95-1044-49af-f145-5ed464fffbdc"
      },
      "execution_count": 150,
      "outputs": [
        {
          "output_type": "execute_result",
          "data": {
            "text/plain": [
              "<matplotlib.axes._subplots.AxesSubplot at 0x7f8536d951d0>"
            ]
          },
          "metadata": {},
          "execution_count": 150
        },
        {
          "output_type": "display_data",
          "data": {
            "text/plain": [
              "<Figure size 432x288 with 1 Axes>"
            ],
            "image/png": "[encoded data removed]"
          },
          "metadata": {
            "needs_background": "light"
          }
        }
      ]
    },
    {
      "cell_type": "code",
      "execution_count": 151,
      "metadata": {
        "id": "Ww24pDXRAQq2"
      },
      "outputs": [],
      "source": [
        "# Chia dữ liệu thành các tập cho model clustering, nhãn recommendation và test\n",
        "#     Warm_up: các rating đã quan sát được từ người dùng (với các case predict)\n",
        "#     Mask: rating bị che đi để model học phân cụm\n",
        "#     target: rating dùng để đánh giá kết quả recommend của module recommend cho từng người dùng\n",
        "# TODO: chia tập dữ liệu theo user-wise => đánh giá với những user hoàn toàn mới thì model có học được không?\n",
        "def dataset_split(ratings):\n",
        "    train, test = train_test_split(ratings, test_size= 0.25)\n",
        "    warm_up_mask, target = train_test_split(train, test_size= 0.25)\n",
        "    warm_up, mask = train_test_split(warm_up_mask, test_size= 0.25)\n",
        "    return warm_up, mask, target, test\n",
        "\n",
        "warm_up, mask, target, test = dataset_split(ratings)"
      ]
    },
    {
      "cell_type": "code",
      "source": [
        "warm_up.shape[0], mask.shape[0], target.shape[0], test.shape[0]"
      ],
      "metadata": {
        "colab": {
          "base_uri": "https://localhost:8080/"
        },
        "id": "528-yZ2pCsL-",
        "outputId": "4230920b-32f6-4c6c-c99f-48fa6e972b41"
      },
      "execution_count": 152,
      "outputs": [
        {
          "output_type": "execute_result",
          "data": {
            "text/plain": [
              "(8437610, 2812537, 3750050, 5000066)"
            ]
          },
          "metadata": {},
          "execution_count": 152
        }
      ]
    },
    {
      "cell_type": "markdown",
      "source": [
        "### CLUSTERING MODEL\n",
        "input: vocab of warm up item <br>\n",
        "ouput: vocab of masked item"
      ],
      "metadata": {
        "id": "z7V3OS6CDN8l"
      }
    },
    {
      "cell_type": "code",
      "source": [
        "#TODO: bổ sung feature của item và feature của user => dựng hybrid model"
      ],
      "metadata": {
        "id": "jXRW4mJJDPvh"
      },
      "execution_count": 153,
      "outputs": []
    },
    {
      "cell_type": "code",
      "source": [
        "# only keep top k popular item\n",
        "# TODO: lấy top k item ntn?\n",
        "# k= 1000\n",
        "# top_items = ratings.groupby(itemCol).count().sort_values(by=userCol, ascending=False).head(k).index\n",
        "# top_items"
      ],
      "metadata": {
        "id": "rFrWxjK_DMcF"
      },
      "execution_count": 154,
      "outputs": []
    },
    {
      "cell_type": "code",
      "source": [
        "# Tổng hợp warm-up thành mảng theo user: mỗi user gồm chuỗi text danh sách mã item đã tương tác + ma trận rating\n",
        "def padding_list(series_item, wu_size, value=0, is_padding=True):\n",
        "    series_item1 = series_item.apply(lambda x: x[0:wu_size])\n",
        "    if is_padding:\n",
        "        series_item1 = series_item1.apply(lambda x: x+[value]*(wu_size-len(x)))\n",
        "    return series_item1\n",
        "\n",
        "def to_arr(series):\n",
        "    x = series.apply(lambda x: np.array(x)).values\n",
        "    return np.stack(x)\n",
        "\n",
        "def warm_up_str(warm_up, wu_size = 100, user_index=None):\n",
        "    if user_index is not None:\n",
        "        warm_up = warm_up[warm_up[userCol].isin(user_index)]\n",
        "\n",
        "    # Sắp xếp item theo thứ tự giảm dần rating (về sau cắt padding sẽ ưu tiên giữ lại item có rating cao)\n",
        "    rindex = warm_up.groupby(userCol)[\"y\"].transform(lambda grp: grp.sort_values(ascending=False).index)\n",
        "    warm_up = warm_up.reindex(rindex)\n",
        "    \n",
        "    # Chuyển thành warm-up set theo từng user\n",
        "    warm_up = warm_up.groupby(\"userId\").agg({itemCol:list, \"y\":list})\n",
        "\n",
        "    # # Giới hạn độ dài warm_up size\n",
        "    # warm_up[itemCol] = warm_up[itemCol].apply(lambda x: x[0:wu_size])\n",
        "    # warm_up[\"y\"] = warm_up[\"y\"].apply(lambda x: x[0:wu_size])\n",
        "\n",
        "    # # Chuyển danh sách item về string để tái sử dụng layer xử lý text\n",
        "    # warm_up[itemCol] = warm_up[itemCol].apply( lambda x: ' '.join(list([str(i) for i in x])))\n",
        "\n",
        "    warm_up[itemCol] = warm_up[itemCol].apply(lambda x: train_test_split(x, test_size=0.25, random_state=42))\n",
        "    warm_up[\"y\"] = warm_up[\"y\"].apply(lambda x: train_test_split(x, test_size=0.25, random_state=42))\n",
        "\n",
        "    warm_up[\"warm_up_items\"] = warm_up[itemCol].apply(lambda x:' '.join(list([str(i) for i in x[0]])))\n",
        "    warm_up[\"warm_up_ratings\"] = warm_up[\"y\"].apply(lambda x: x[0] )\n",
        "\n",
        "    warm_up[\"masked_items\"] = warm_up[itemCol].apply(lambda x:' '.join(list([str(i) for i in x[1]])))\n",
        "    warm_up[\"masked_ratings\"] = warm_up[\"y\"].apply(lambda x: x[1] )\n",
        "\n",
        "    return warm_up\n",
        "\n",
        "wu_df = warm_up_str(warm_up[warm_up[userCol].isin([1,12,5, 11])])\n",
        "wu_df"
      ],
      "metadata": {
        "colab": {
          "base_uri": "https://localhost:8080/",
          "height": 304
        },
        "id": "VhIZb8RHtlxv",
        "outputId": "a6fc33dd-86df-4a7d-dc96-332f438ba808"
      },
      "execution_count": 155,
      "outputs": [
        {
          "output_type": "execute_result",
          "data": {
            "text/plain": [
              "                                                  movieId  \\\n",
              "userId                                                      \n",
              "1       [[1198, 1387, 589, 2959, 31696, 2193, 2140, 12...   \n",
              "5       [[1042, 380, 140, 62, 457, 589, 1080, 1035, 60...   \n",
              "11      [[1917, 31555, 968, 52287, 51666, 2291, 595, 6...   \n",
              "12      [[208, 494, 590, 17, 786, 36, 5, 364, 648, 784...   \n",
              "\n",
              "                                                        y  \\\n",
              "userId                                                      \n",
              "1       [[0.8, 0.6000000000000001, 0.3999999999999999,...   \n",
              "5       [[0.6000000000000001, 1.0, -0.1999999999999999...   \n",
              "11      [[1.0, 1.0, 1.0, 0.3999999999999999, 0.1999999...   \n",
              "12      [[0.19999999999999996, 0.19999999999999996, 0....   \n",
              "\n",
              "                                            warm_up_items  \\\n",
              "userId                                                      \n",
              "1       1198 1387 589 2959 31696 2193 2140 1222 5797 4...   \n",
              "5       1042 380 140 62 457 589 1080 1035 608 11 104 3...   \n",
              "11      1917 31555 968 52287 51666 2291 595 6016 56949...   \n",
              "12        208 494 590 17 786 36 5 364 648 784 733 780 788   \n",
              "\n",
              "                                          warm_up_ratings  \\\n",
              "userId                                                      \n",
              "1       [0.8, 0.6000000000000001, 0.3999999999999999, ...   \n",
              "5       [0.6000000000000001, 1.0, -0.19999999999999996...   \n",
              "11      [1.0, 1.0, 1.0, 0.3999999999999999, 0.19999999...   \n",
              "12      [0.19999999999999996, 0.19999999999999996, 0.1...   \n",
              "\n",
              "                                             masked_items  \\\n",
              "userId                                                      \n",
              "1       1348 1920 5952 4941 4754 2021 7438 3996 7757 4...   \n",
              "5                           671 1036 588 788 1210 377 318   \n",
              "11      4105 256 60037 4246 260 56251 588 1093 33794 6...   \n",
              "12                                    595 527 589 344 104   \n",
              "\n",
              "                                           masked_ratings  \n",
              "userId                                                     \n",
              "1       [0.3999999999999999, 0.3999999999999999, 1.0, ...  \n",
              "5       [1.0, 1.0, 1.0, 0.19999999999999996, 1.0, 1.0,...  \n",
              "11      [-0.19999999999999996, 1.0, 1.0, 0.19999999999...  \n",
              "12      [0.6000000000000001, 0.6000000000000001, 0.600...  "
            ],
            "text/html": [
              "\n",
              "  <div id=\"df-26e49d7c-c4a0-4cf9-81d0-23e29dbce86c\">\n",
              "    <div class=\"colab-df-container\">\n",
              "      <div>\n",
              "<style scoped>\n",
              "    .dataframe tbody tr th:only-of-type {\n",
              "        vertical-align: middle;\n",
              "    }\n",
              "\n",
              "    .dataframe tbody tr th {\n",
              "        vertical-align: top;\n",
              "    }\n",
              "\n",
              "    .dataframe thead th {\n",
              "        text-align: right;\n",
              "    }\n",
              "</style>\n",
              "<table border=\"1\" class=\"dataframe\">\n",
              "  <thead>\n",
              "    <tr style=\"text-align: right;\">\n",
              "      <th></th>\n",
              "      <th>movieId</th>\n",
              "      <th>y</th>\n",
              "      <th>warm_up_items</th>\n",
              "      <th>warm_up_ratings</th>\n",
              "      <th>masked_items</th>\n",
              "      <th>masked_ratings</th>\n",
              "    </tr>\n",
              "    <tr>\n",
              "      <th>userId</th>\n",
              "      <th></th>\n",
              "      <th></th>\n",
              "      <th></th>\n",
              "      <th></th>\n",
              "      <th></th>\n",
              "      <th></th>\n",
              "    </tr>\n",
              "  </thead>\n",
              "  <tbody>\n",
              "    <tr>\n",
              "      <th>1</th>\n",
              "      <td>[[1198, 1387, 589, 2959, 31696, 2193, 2140, 12...</td>\n",
              "      <td>[[0.8, 0.6000000000000001, 0.3999999999999999,...</td>\n",
              "      <td>1198 1387 589 2959 31696 2193 2140 1222 5797 4...</td>\n",
              "      <td>[0.8, 0.6000000000000001, 0.3999999999999999, ...</td>\n",
              "      <td>1348 1920 5952 4941 4754 2021 7438 3996 7757 4...</td>\n",
              "      <td>[0.3999999999999999, 0.3999999999999999, 1.0, ...</td>\n",
              "    </tr>\n",
              "    <tr>\n",
              "      <th>5</th>\n",
              "      <td>[[1042, 380, 140, 62, 457, 589, 1080, 1035, 60...</td>\n",
              "      <td>[[0.6000000000000001, 1.0, -0.1999999999999999...</td>\n",
              "      <td>1042 380 140 62 457 589 1080 1035 608 11 104 3...</td>\n",
              "      <td>[0.6000000000000001, 1.0, -0.19999999999999996...</td>\n",
              "      <td>671 1036 588 788 1210 377 318</td>\n",
              "      <td>[1.0, 1.0, 1.0, 0.19999999999999996, 1.0, 1.0,...</td>\n",
              "    </tr>\n",
              "    <tr>\n",
              "      <th>11</th>\n",
              "      <td>[[1917, 31555, 968, 52287, 51666, 2291, 595, 6...</td>\n",
              "      <td>[[1.0, 1.0, 1.0, 0.3999999999999999, 0.1999999...</td>\n",
              "      <td>1917 31555 968 52287 51666 2291 595 6016 56949...</td>\n",
              "      <td>[1.0, 1.0, 1.0, 0.3999999999999999, 0.19999999...</td>\n",
              "      <td>4105 256 60037 4246 260 56251 588 1093 33794 6...</td>\n",
              "      <td>[-0.19999999999999996, 1.0, 1.0, 0.19999999999...</td>\n",
              "    </tr>\n",
              "    <tr>\n",
              "      <th>12</th>\n",
              "      <td>[[208, 494, 590, 17, 786, 36, 5, 364, 648, 784...</td>\n",
              "      <td>[[0.19999999999999996, 0.19999999999999996, 0....</td>\n",
              "      <td>208 494 590 17 786 36 5 364 648 784 733 780 788</td>\n",
              "      <td>[0.19999999999999996, 0.19999999999999996, 0.1...</td>\n",
              "      <td>595 527 589 344 104</td>\n",
              "      <td>[0.6000000000000001, 0.6000000000000001, 0.600...</td>\n",
              "    </tr>\n",
              "  </tbody>\n",
              "</table>\n",
              "</div>\n",
              "      <button class=\"colab-df-convert\" onclick=\"convertToInteractive('df-26e49d7c-c4a0-4cf9-81d0-23e29dbce86c')\"\n",
              "              title=\"Convert this dataframe to an interactive table.\"\n",
              "              style=\"display:none;\">\n",
              "        \n",
              "  <svg xmlns=\"http://www.w3.org/2000/svg\" height=\"24px\"viewBox=\"0 0 24 24\"\n",
              "       width=\"24px\">\n",
              "    <path d=\"M0 0h24v24H0V0z\" fill=\"none\"/>\n",
              "    <path d=\"M18.56 5.44l.94 2.06.94-2.06 2.06-.94-2.06-.94-.94-2.06-.94 2.06-2.06.94zm-11 1L8.5 8.5l.94-2.06 2.06-.94-2.06-.94L8.5 2.5l-.94 2.06-2.06.94zm10 10l.94 2.06.94-2.06 2.06-.94-2.06-.94-.94-2.06-.94 2.06-2.06.94z\"/><path d=\"M17.41 7.96l-1.37-1.37c-.4-.4-.92-.59-1.43-.59-.52 0-1.04.2-1.43.59L10.3 9.45l-7.72 7.72c-.78.78-.78 2.05 0 2.83L4 21.41c.39.39.9.59 1.41.59.51 0 1.02-.2 1.41-.59l7.78-7.78 2.81-2.81c.8-.78.8-2.07 0-2.86zM5.41 20L4 18.59l7.72-7.72 1.47 1.35L5.41 20z\"/>\n",
              "  </svg>\n",
              "      </button>\n",
              "      \n",
              "  <style>\n",
              "    .colab-df-container {\n",
              "      display:flex;\n",
              "      flex-wrap:wrap;\n",
              "      gap: 12px;\n",
              "    }\n",
              "\n",
              "    .colab-df-convert {\n",
              "      background-color: #E8F0FE;\n",
              "      border: none;\n",
              "      border-radius: 50%;\n",
              "      cursor: pointer;\n",
              "      display: none;\n",
              "      fill: #1967D2;\n",
              "      height: 32px;\n",
              "      padding: 0 0 0 0;\n",
              "      width: 32px;\n",
              "    }\n",
              "\n",
              "    .colab-df-convert:hover {\n",
              "      background-color: #E2EBFA;\n",
              "      box-shadow: 0px 1px 2px rgba(60, 64, 67, 0.3), 0px 1px 3px 1px rgba(60, 64, 67, 0.15);\n",
              "      fill: #174EA6;\n",
              "    }\n",
              "\n",
              "    [theme=dark] .colab-df-convert {\n",
              "      background-color: #3B4455;\n",
              "      fill: #D2E3FC;\n",
              "    }\n",
              "\n",
              "    [theme=dark] .colab-df-convert:hover {\n",
              "      background-color: #434B5C;\n",
              "      box-shadow: 0px 1px 3px 1px rgba(0, 0, 0, 0.15);\n",
              "      filter: drop-shadow(0px 1px 2px rgba(0, 0, 0, 0.3));\n",
              "      fill: #FFFFFF;\n",
              "    }\n",
              "  </style>\n",
              "\n",
              "      <script>\n",
              "        const buttonEl =\n",
              "          document.querySelector('#df-26e49d7c-c4a0-4cf9-81d0-23e29dbce86c button.colab-df-convert');\n",
              "        buttonEl.style.display =\n",
              "          google.colab.kernel.accessAllowed ? 'block' : 'none';\n",
              "\n",
              "        async function convertToInteractive(key) {\n",
              "          const element = document.querySelector('#df-26e49d7c-c4a0-4cf9-81d0-23e29dbce86c');\n",
              "          const dataTable =\n",
              "            await google.colab.kernel.invokeFunction('convertToInteractive',\n",
              "                                                     [key], {});\n",
              "          if (!dataTable) return;\n",
              "\n",
              "          const docLinkHtml = 'Like what you see? Visit the ' +\n",
              "            '<a target=\"_blank\" href=https://colab.research.google.com/notebooks/data_table.ipynb>data table notebook</a>'\n",
              "            + ' to learn more about interactive tables.';\n",
              "          element.innerHTML = '';\n",
              "          dataTable['output_type'] = 'display_data';\n",
              "          await google.colab.output.renderOutput(dataTable, element);\n",
              "          const docLink = document.createElement('div');\n",
              "          docLink.innerHTML = docLinkHtml;\n",
              "          element.appendChild(docLink);\n",
              "        }\n",
              "      </script>\n",
              "    </div>\n",
              "  </div>\n",
              "  "
            ]
          },
          "metadata": {},
          "execution_count": 155
        }
      ]
    },
    {
      "cell_type": "code",
      "source": [
        "wu_df[wu_df.index==5]"
      ],
      "metadata": {
        "colab": {
          "base_uri": "https://localhost:8080/",
          "height": 111
        },
        "id": "7CEq4GRmFfKq",
        "outputId": "806b7d07-534c-44f8-c951-67e9955f24f9"
      },
      "execution_count": 111,
      "outputs": [
        {
          "output_type": "execute_result",
          "data": {
            "text/plain": [
              "                                                  movieId  \\\n",
              "userId                                                      \n",
              "5       [380, 62, 780, 141, 1196, 736, 1028, 595, 1291...   \n",
              "\n",
              "                                                        y  \\\n",
              "userId                                                      \n",
              "5       [1.0, 1.0, 1.0, 1.0, 1.0, 1.0, 1.0, 1.0, 1.0, ...   \n",
              "\n",
              "                                              movieId_set  \\\n",
              "userId                                                      \n",
              "5       [[62, 282, 736, 780, 475, 708, 141, 1196, 2, 3...   \n",
              "\n",
              "                                                    y_set  \n",
              "userId                                                     \n",
              "5       [[1.0, 0.6000000000000001, 1.0, 1.0, 0.6000000...  "
            ],
            "text/html": [
              "\n",
              "  <div id=\"df-e23b09b2-fa9a-49b6-8f9a-942067502eaa\">\n",
              "    <div class=\"colab-df-container\">\n",
              "      <div>\n",
              "<style scoped>\n",
              "    .dataframe tbody tr th:only-of-type {\n",
              "        vertical-align: middle;\n",
              "    }\n",
              "\n",
              "    .dataframe tbody tr th {\n",
              "        vertical-align: top;\n",
              "    }\n",
              "\n",
              "    .dataframe thead th {\n",
              "        text-align: right;\n",
              "    }\n",
              "</style>\n",
              "<table border=\"1\" class=\"dataframe\">\n",
              "  <thead>\n",
              "    <tr style=\"text-align: right;\">\n",
              "      <th></th>\n",
              "      <th>movieId</th>\n",
              "      <th>y</th>\n",
              "      <th>movieId_set</th>\n",
              "      <th>y_set</th>\n",
              "    </tr>\n",
              "    <tr>\n",
              "      <th>userId</th>\n",
              "      <th></th>\n",
              "      <th></th>\n",
              "      <th></th>\n",
              "      <th></th>\n",
              "    </tr>\n",
              "  </thead>\n",
              "  <tbody>\n",
              "    <tr>\n",
              "      <th>5</th>\n",
              "      <td>[380, 62, 780, 141, 1196, 736, 1028, 595, 1291...</td>\n",
              "      <td>[1.0, 1.0, 1.0, 1.0, 1.0, 1.0, 1.0, 1.0, 1.0, ...</td>\n",
              "      <td>[[62, 282, 736, 780, 475, 708, 141, 1196, 2, 3...</td>\n",
              "      <td>[[1.0, 0.6000000000000001, 1.0, 1.0, 0.6000000...</td>\n",
              "    </tr>\n",
              "  </tbody>\n",
              "</table>\n",
              "</div>\n",
              "      <button class=\"colab-df-convert\" onclick=\"convertToInteractive('df-e23b09b2-fa9a-49b6-8f9a-942067502eaa')\"\n",
              "              title=\"Convert this dataframe to an interactive table.\"\n",
              "              style=\"display:none;\">\n",
              "        \n",
              "  <svg xmlns=\"http://www.w3.org/2000/svg\" height=\"24px\"viewBox=\"0 0 24 24\"\n",
              "       width=\"24px\">\n",
              "    <path d=\"M0 0h24v24H0V0z\" fill=\"none\"/>\n",
              "    <path d=\"M18.56 5.44l.94 2.06.94-2.06 2.06-.94-2.06-.94-.94-2.06-.94 2.06-2.06.94zm-11 1L8.5 8.5l.94-2.06 2.06-.94-2.06-.94L8.5 2.5l-.94 2.06-2.06.94zm10 10l.94 2.06.94-2.06 2.06-.94-2.06-.94-.94-2.06-.94 2.06-2.06.94z\"/><path d=\"M17.41 7.96l-1.37-1.37c-.4-.4-.92-.59-1.43-.59-.52 0-1.04.2-1.43.59L10.3 9.45l-7.72 7.72c-.78.78-.78 2.05 0 2.83L4 21.41c.39.39.9.59 1.41.59.51 0 1.02-.2 1.41-.59l7.78-7.78 2.81-2.81c.8-.78.8-2.07 0-2.86zM5.41 20L4 18.59l7.72-7.72 1.47 1.35L5.41 20z\"/>\n",
              "  </svg>\n",
              "      </button>\n",
              "      \n",
              "  <style>\n",
              "    .colab-df-container {\n",
              "      display:flex;\n",
              "      flex-wrap:wrap;\n",
              "      gap: 12px;\n",
              "    }\n",
              "\n",
              "    .colab-df-convert {\n",
              "      background-color: #E8F0FE;\n",
              "      border: none;\n",
              "      border-radius: 50%;\n",
              "      cursor: pointer;\n",
              "      display: none;\n",
              "      fill: #1967D2;\n",
              "      height: 32px;\n",
              "      padding: 0 0 0 0;\n",
              "      width: 32px;\n",
              "    }\n",
              "\n",
              "    .colab-df-convert:hover {\n",
              "      background-color: #E2EBFA;\n",
              "      box-shadow: 0px 1px 2px rgba(60, 64, 67, 0.3), 0px 1px 3px 1px rgba(60, 64, 67, 0.15);\n",
              "      fill: #174EA6;\n",
              "    }\n",
              "\n",
              "    [theme=dark] .colab-df-convert {\n",
              "      background-color: #3B4455;\n",
              "      fill: #D2E3FC;\n",
              "    }\n",
              "\n",
              "    [theme=dark] .colab-df-convert:hover {\n",
              "      background-color: #434B5C;\n",
              "      box-shadow: 0px 1px 3px 1px rgba(0, 0, 0, 0.15);\n",
              "      filter: drop-shadow(0px 1px 2px rgba(0, 0, 0, 0.3));\n",
              "      fill: #FFFFFF;\n",
              "    }\n",
              "  </style>\n",
              "\n",
              "      <script>\n",
              "        const buttonEl =\n",
              "          document.querySelector('#df-e23b09b2-fa9a-49b6-8f9a-942067502eaa button.colab-df-convert');\n",
              "        buttonEl.style.display =\n",
              "          google.colab.kernel.accessAllowed ? 'block' : 'none';\n",
              "\n",
              "        async function convertToInteractive(key) {\n",
              "          const element = document.querySelector('#df-e23b09b2-fa9a-49b6-8f9a-942067502eaa');\n",
              "          const dataTable =\n",
              "            await google.colab.kernel.invokeFunction('convertToInteractive',\n",
              "                                                     [key], {});\n",
              "          if (!dataTable) return;\n",
              "\n",
              "          const docLinkHtml = 'Like what you see? Visit the ' +\n",
              "            '<a target=\"_blank\" href=https://colab.research.google.com/notebooks/data_table.ipynb>data table notebook</a>'\n",
              "            + ' to learn more about interactive tables.';\n",
              "          element.innerHTML = '';\n",
              "          dataTable['output_type'] = 'display_data';\n",
              "          await google.colab.output.renderOutput(dataTable, element);\n",
              "          const docLink = document.createElement('div');\n",
              "          docLink.innerHTML = docLinkHtml;\n",
              "          element.appendChild(docLink);\n",
              "        }\n",
              "      </script>\n",
              "    </div>\n",
              "  </div>\n",
              "  "
            ]
          },
          "metadata": {},
          "execution_count": 111
        }
      ]
    },
    {
      "cell_type": "code",
      "source": [
        "max_vocab_size = 5000\n",
        "output_sequence_length= 100\n",
        "\n",
        "vectorizer = layers.TextVectorization( max_tokens=max_vocab_size, split='whitespace', output_sequence_length= output_sequence_length)\n",
        "vectorizer.adapt( wu_df[\"warm_up_items\"] )"
      ],
      "metadata": {
        "id": "ube3LFiiD0zm"
      },
      "execution_count": 215,
      "outputs": []
    },
    {
      "cell_type": "code",
      "source": [
        "vectorizer(wu_df[\"warm_up_items\"]).shape"
      ],
      "metadata": {
        "colab": {
          "base_uri": "https://localhost:8080/"
        },
        "id": "71jH8rwlEMd-",
        "outputId": "86fd93aa-40ed-4246-92ed-71063e59c51b"
      },
      "execution_count": 270,
      "outputs": [
        {
          "output_type": "execute_result",
          "data": {
            "text/plain": [
              "TensorShape([4, 100])"
            ]
          },
          "metadata": {},
          "execution_count": 270
        }
      ]
    },
    {
      "cell_type": "code",
      "source": [
        "def padding(sequence, output_sequence_length):\n",
        "    if len(sequence) > output_sequence_length:\n",
        "        sequence = sequence[:output_sequence_length]\n",
        "    t = tf.constant(sequence, dtype=np.float32)\n",
        "    p = tf.zeros(output_sequence_length-t.shape[0])\n",
        "    return K.concatenate([t, p], axis=0)\n",
        "\n",
        "def \n",
        "\n",
        "class PaddingLayers(tf.keras.layers.Layer):\n",
        "  def __init__(self, output_sequence_length):\n",
        "    super(PaddingLayers, self).__init__()\n",
        "    self.output_sequence_length = output_sequence_length\n",
        "\n",
        "  def call(self, inputs):\n",
        "    ts = []\n",
        "    for s in inputs:\n",
        "        ts.append(padding(s, self.output_sequence_length))\n",
        "\n",
        "    return tf.stack(ts, axis=0)\n",
        "\n",
        "# Test layer\n",
        "paddinglayer = PaddingLayers(output_sequence_length= output_sequence_length)\n",
        "paddinglayer(wu_df[\"warm_up_ratings\"]).shape"
      ],
      "metadata": {
        "colab": {
          "base_uri": "https://localhost:8080/"
        },
        "id": "iPSn0_Wj8UN2",
        "outputId": "8faca99e-f343-42b5-ae62-a03de8a09dbb"
      },
      "execution_count": 269,
      "outputs": [
        {
          "output_type": "execute_result",
          "data": {
            "text/plain": [
              "TensorShape([4, 100])"
            ]
          },
          "metadata": {},
          "execution_count": 269
        }
      ]
    },
    {
      "cell_type": "code",
      "source": [
        "# Xây dựng mạng\n",
        "wu_size = 100\n",
        "embedding_size = 100\n",
        "cluster_num = 50\n",
        "\n",
        "\n",
        "def get_model():\n",
        "\n",
        "    input_wi = layers.Input(shape=(1,), name='input_wi')\n",
        "    wi = vectorizer(input_wi)\n",
        "    wi = layers.Embedding(input_dim=output_sequence_length, output_dim= embedding_size, mask_zero= True, name='ei')(wi)\n",
        "    wi = layers.Dense(embedding_size, activation='relu', name='di')(wi)\n",
        "\n",
        "    wr = PaddingLayers(output_sequence_length= output_sequence_length) #layers.Input(shape=(1,), name='ratings')\n",
        "    # wr = \n",
        "\n",
        "    ireps = layers.Multiply(name='mul')([wi, wr])\n",
        "    uprofile = layers.Lambda(lambda z: K.sum(z, axis=1), name='lambda')(ireps)\n",
        "\n",
        "    ureps = layers.LayerNormalization(name='norm')(uprofile)\n",
        "    ureps = layers.Dense(int(wu_size/2), activation='relu', name='du')(ureps)\n",
        "    clusters = layers.Dense(cluster_num, activation= 'sigmoid', name='clustering')(ureps)\n",
        "    mask = layers.Dense(corrector_size)(clusters)\n",
        "    \n",
        "    model = tf.keras.Model(inputs= [input_wi, wr], outputs=[wi])\n",
        "    return model\n",
        "\n",
        "model = get_model()"
      ],
      "metadata": {
        "colab": {
          "base_uri": "https://localhost:8080/",
          "height": 578
        },
        "id": "BaNiNavay8U6",
        "outputId": "b518efd4-d2ec-487a-f279-e4905cf1afd0"
      },
      "execution_count": 266,
      "outputs": [
        {
          "output_type": "error",
          "ename": "ValueError",
          "evalue": "ignored",
          "traceback": [
            "\u001b[0;31m---------------------------------------------------------------------------\u001b[0m",
            "\u001b[0;31mValueError\u001b[0m                                Traceback (most recent call last)",
            "\u001b[0;32m<ipython-input-266-0b9cca3e6094>\u001b[0m in \u001b[0;36m<module>\u001b[0;34m()\u001b[0m\n\u001b[1;32m     26\u001b[0m     \u001b[0;32mreturn\u001b[0m \u001b[0mmodel\u001b[0m\u001b[0;34m\u001b[0m\u001b[0;34m\u001b[0m\u001b[0m\n\u001b[1;32m     27\u001b[0m \u001b[0;34m\u001b[0m\u001b[0m\n\u001b[0;32m---> 28\u001b[0;31m \u001b[0mmodel\u001b[0m \u001b[0;34m=\u001b[0m \u001b[0mget_model\u001b[0m\u001b[0;34m(\u001b[0m\u001b[0;34m)\u001b[0m\u001b[0;34m\u001b[0m\u001b[0;34m\u001b[0m\u001b[0m\n\u001b[0m",
            "\u001b[0;32m<ipython-input-266-0b9cca3e6094>\u001b[0m in \u001b[0;36mget_model\u001b[0;34m()\u001b[0m\n\u001b[1;32m     15\u001b[0m     \u001b[0;31m# wr =\u001b[0m\u001b[0;34m\u001b[0m\u001b[0;34m\u001b[0m\u001b[0;34m\u001b[0m\u001b[0m\n\u001b[1;32m     16\u001b[0m \u001b[0;34m\u001b[0m\u001b[0m\n\u001b[0;32m---> 17\u001b[0;31m     \u001b[0mireps\u001b[0m \u001b[0;34m=\u001b[0m \u001b[0mlayers\u001b[0m\u001b[0;34m.\u001b[0m\u001b[0mMultiply\u001b[0m\u001b[0;34m(\u001b[0m\u001b[0mname\u001b[0m\u001b[0;34m=\u001b[0m\u001b[0;34m'mul'\u001b[0m\u001b[0;34m)\u001b[0m\u001b[0;34m(\u001b[0m\u001b[0;34m[\u001b[0m\u001b[0mwi\u001b[0m\u001b[0;34m,\u001b[0m \u001b[0mwr\u001b[0m\u001b[0;34m]\u001b[0m\u001b[0;34m)\u001b[0m\u001b[0;34m\u001b[0m\u001b[0;34m\u001b[0m\u001b[0m\n\u001b[0m\u001b[1;32m     18\u001b[0m     \u001b[0muprofile\u001b[0m \u001b[0;34m=\u001b[0m \u001b[0mlayers\u001b[0m\u001b[0;34m.\u001b[0m\u001b[0mLambda\u001b[0m\u001b[0;34m(\u001b[0m\u001b[0;32mlambda\u001b[0m \u001b[0mz\u001b[0m\u001b[0;34m:\u001b[0m \u001b[0mK\u001b[0m\u001b[0;34m.\u001b[0m\u001b[0msum\u001b[0m\u001b[0;34m(\u001b[0m\u001b[0mz\u001b[0m\u001b[0;34m,\u001b[0m \u001b[0maxis\u001b[0m\u001b[0;34m=\u001b[0m\u001b[0;36m1\u001b[0m\u001b[0;34m)\u001b[0m\u001b[0;34m,\u001b[0m \u001b[0mname\u001b[0m\u001b[0;34m=\u001b[0m\u001b[0;34m'lambda'\u001b[0m\u001b[0;34m)\u001b[0m\u001b[0;34m(\u001b[0m\u001b[0mireps\u001b[0m\u001b[0;34m)\u001b[0m\u001b[0;34m\u001b[0m\u001b[0;34m\u001b[0m\u001b[0m\n\u001b[1;32m     19\u001b[0m \u001b[0;34m\u001b[0m\u001b[0m\n",
            "\u001b[0;32m/usr/local/lib/python3.7/dist-packages/keras/utils/traceback_utils.py\u001b[0m in \u001b[0;36merror_handler\u001b[0;34m(*args, **kwargs)\u001b[0m\n\u001b[1;32m     65\u001b[0m     \u001b[0;32mexcept\u001b[0m \u001b[0mException\u001b[0m \u001b[0;32mas\u001b[0m \u001b[0me\u001b[0m\u001b[0;34m:\u001b[0m  \u001b[0;31m# pylint: disable=broad-except\u001b[0m\u001b[0;34m\u001b[0m\u001b[0;34m\u001b[0m\u001b[0m\n\u001b[1;32m     66\u001b[0m       \u001b[0mfiltered_tb\u001b[0m \u001b[0;34m=\u001b[0m \u001b[0m_process_traceback_frames\u001b[0m\u001b[0;34m(\u001b[0m\u001b[0me\u001b[0m\u001b[0;34m.\u001b[0m\u001b[0m__traceback__\u001b[0m\u001b[0;34m)\u001b[0m\u001b[0;34m\u001b[0m\u001b[0;34m\u001b[0m\u001b[0m\n\u001b[0;32m---> 67\u001b[0;31m       \u001b[0;32mraise\u001b[0m \u001b[0me\u001b[0m\u001b[0;34m.\u001b[0m\u001b[0mwith_traceback\u001b[0m\u001b[0;34m(\u001b[0m\u001b[0mfiltered_tb\u001b[0m\u001b[0;34m)\u001b[0m \u001b[0;32mfrom\u001b[0m \u001b[0;32mNone\u001b[0m\u001b[0;34m\u001b[0m\u001b[0;34m\u001b[0m\u001b[0m\n\u001b[0m\u001b[1;32m     68\u001b[0m     \u001b[0;32mfinally\u001b[0m\u001b[0;34m:\u001b[0m\u001b[0;34m\u001b[0m\u001b[0;34m\u001b[0m\u001b[0m\n\u001b[1;32m     69\u001b[0m       \u001b[0;32mdel\u001b[0m \u001b[0mfiltered_tb\u001b[0m\u001b[0;34m\u001b[0m\u001b[0;34m\u001b[0m\u001b[0m\n",
            "\u001b[0;32m/usr/local/lib/python3.7/dist-packages/tensorflow/python/framework/tensor_shape.py\u001b[0m in \u001b[0;36mas_list\u001b[0;34m(self)\u001b[0m\n\u001b[1;32m   1221\u001b[0m     \"\"\"\n\u001b[1;32m   1222\u001b[0m     \u001b[0;32mif\u001b[0m \u001b[0mself\u001b[0m\u001b[0;34m.\u001b[0m\u001b[0m_dims\u001b[0m \u001b[0;32mis\u001b[0m \u001b[0;32mNone\u001b[0m\u001b[0;34m:\u001b[0m\u001b[0;34m\u001b[0m\u001b[0;34m\u001b[0m\u001b[0m\n\u001b[0;32m-> 1223\u001b[0;31m       \u001b[0;32mraise\u001b[0m \u001b[0mValueError\u001b[0m\u001b[0;34m(\u001b[0m\u001b[0;34m\"as_list() is not defined on an unknown TensorShape.\"\u001b[0m\u001b[0;34m)\u001b[0m\u001b[0;34m\u001b[0m\u001b[0;34m\u001b[0m\u001b[0m\n\u001b[0m\u001b[1;32m   1224\u001b[0m     \u001b[0;32mreturn\u001b[0m \u001b[0;34m[\u001b[0m\u001b[0mdim\u001b[0m\u001b[0;34m.\u001b[0m\u001b[0mvalue\u001b[0m \u001b[0;32mfor\u001b[0m \u001b[0mdim\u001b[0m \u001b[0;32min\u001b[0m \u001b[0mself\u001b[0m\u001b[0;34m.\u001b[0m\u001b[0m_dims\u001b[0m\u001b[0;34m]\u001b[0m\u001b[0;34m\u001b[0m\u001b[0;34m\u001b[0m\u001b[0m\n\u001b[1;32m   1225\u001b[0m \u001b[0;34m\u001b[0m\u001b[0m\n",
            "\u001b[0;31mValueError\u001b[0m: as_list() is not defined on an unknown TensorShape."
          ]
        }
      ]
    },
    {
      "cell_type": "code",
      "source": [
        "wi"
      ],
      "metadata": {
        "colab": {
          "base_uri": "https://localhost:8080/"
        },
        "id": "D-BVBF2y-aQ7",
        "outputId": "558f20b1-e933-4d25-8288-d678167768e1"
      },
      "execution_count": 264,
      "outputs": [
        {
          "output_type": "execute_result",
          "data": {
            "text/plain": [
              "<KerasTensor: shape=(None, 100, 100) dtype=float32 (created by layer 'di')>"
            ]
          },
          "metadata": {},
          "execution_count": 264
        }
      ]
    },
    {
      "cell_type": "code",
      "source": [
        "vectorizer(wu_df[\"warm_up_items\"].values[0:1])"
      ],
      "metadata": {
        "colab": {
          "base_uri": "https://localhost:8080/"
        },
        "id": "G9bJJZnR-gUb",
        "outputId": "4d84f656-218c-4ea1-a5af-916653efd89f"
      },
      "execution_count": 231,
      "outputs": [
        {
          "output_type": "execute_result",
          "data": {
            "text/plain": [
              "<tf.Tensor: shape=(1, 100), dtype=int64, numpy=\n",
              "array([[231, 216,   6,   8, 161, 193, 194, 225,  72, 131, 167, 181, 203,\n",
              "         36, 182, 217,  12, 219,  81, 165, 180, 130,  27, 172, 201, 211,\n",
              "         97,   4, 171,  33, 190,  17, 169,  77, 151, 235, 226,  44, 160,\n",
              "         93, 229, 173, 192, 202,   9, 152,  37,  66,   0,   0,   0,   0,\n",
              "          0,   0,   0,   0,   0,   0,   0,   0,   0,   0,   0,   0,   0,\n",
              "          0,   0,   0,   0,   0,   0,   0,   0,   0,   0,   0,   0,   0,\n",
              "          0,   0,   0,   0,   0,   0,   0,   0,   0,   0,   0,   0,   0,\n",
              "          0,   0,   0,   0,   0,   0,   0,   0,   0]])>"
            ]
          },
          "metadata": {},
          "execution_count": 231
        }
      ]
    },
    {
      "cell_type": "markdown",
      "source": [
        "# << OLD CODE>>"
      ],
      "metadata": {
        "id": "JYXgLg2MDJis"
      }
    },
    {
      "cell_type": "code",
      "source": [
        "class Encoder(tf.keras.layers.Layer):\n",
        "  def __init__(self, input_vocab_size, embedding_dim, enc_units):\n",
        "    super(Encoder, self).__init__()\n",
        "    self.enc_units = enc_units\n",
        "    self.input_vocab_size = input_vocab_size\n",
        "\n",
        "    # The embedding layer converts tokens to vectors\n",
        "    self.embedding = tf.keras.layers.Embedding(self.input_vocab_size,\n",
        "                                               embedding_dim)\n",
        "\n",
        "    # The GRU RNN layer processes those vectors sequentially.\n",
        "    self.gru = tf.keras.layers.GRU(self.enc_units,\n",
        "                                   # Return the sequence and state\n",
        "                                   return_sequences=True,\n",
        "                                   return_state=True,\n",
        "                                   recurrent_initializer='glorot_uniform')\n",
        "\n",
        "  def call(self, inputs, state=None):\n",
        "    tokens, weights = inputs\n",
        "\n",
        "    # 2. The embedding layer looks up the embedding for each token.\n",
        "    vectors = self.embedding(tokens)\n",
        "    shape_checker(vectors, ('batch', 's', 'embed_dim'))\n",
        "\n",
        "    # 3. The GRU processes the embedding sequence.\n",
        "    #    output shape: (batch, s, enc_units)\n",
        "    #    state shape: (batch, enc_units)\n",
        "    output, state = self.gru(vectors, initial_state=state)\n",
        "    shape_checker(output, ('batch', 's', 'enc_units'))\n",
        "    shape_checker(state, ('batch', 'enc_units'))\n",
        "\n",
        "    \n",
        "\n",
        "    # 4. Returns the new sequence and its state.\n",
        "    return output, state"
      ],
      "metadata": {
        "colab": {
          "base_uri": "https://localhost:8080/"
        },
        "id": "zn-qZzme-mra",
        "outputId": "d48f0144-7169-454f-9a66-75ef514d4353"
      },
      "execution_count": 227,
      "outputs": [
        {
          "output_type": "execute_result",
          "data": {
            "text/plain": [
              "userId\n",
              "1     1198 1387 589 2959 31696 2193 2140 1222 5797 4...\n",
              "5     1042 380 140 62 457 589 1080 1035 608 11 104 3...\n",
              "11    1917 31555 968 52287 51666 2291 595 6016 56949...\n",
              "12      208 494 590 17 786 36 5 364 648 784 733 780 788\n",
              "Name: warm_up_items, dtype: object"
            ]
          },
          "metadata": {},
          "execution_count": 227
        }
      ]
    },
    {
      "cell_type": "code",
      "source": [
        "%%time\n",
        "# Tổng hợp warm-up thành mảng theo user: mỗi user gồm một ma trận item_id + rating của item đó\n",
        "# TODO: v2: sửa lại chỉ concat warmup lại thành chuỗi cách nhau bởi dấu cách => sử dụng textvectorizer (không phải encode + padding)\n",
        "\n",
        "def padding_list(series_item, wu_size, value=0, is_padding=True):\n",
        "    series_item1 = series_item.apply(lambda x: x[0:wu_size])\n",
        "    if is_padding:\n",
        "        series_item1 = series_item1.apply(lambda x: x+[value]*(wu_size-len(x)))\n",
        "    return series_item1\n",
        "\n",
        "def to_arr(series):\n",
        "    x = series.apply(lambda x: np.array(x)).values\n",
        "    return np.stack(x)\n",
        "    \n",
        "def warmup_arr(warm_up, wu_size = 100, user_index=None, items = None, is_padding = True):\n",
        "    if user_index is not None:\n",
        "        warm_up = warm_up[warm_up[\"userId\"].isin(user_index)]\n",
        "\n",
        "    if items is not None:\n",
        "        warm_up = warm_up[warm_up[itemCol].isin(items)]\n",
        "\n",
        "    \n",
        "    # Sắp xếp item theo thứ tự giảm dần rating (về sau cắt padding sẽ ưu tiên giữ lại item có rating cao)\n",
        "    rindex = warm_up.groupby(\"userId\")[\"y\"].transform(lambda grp: grp.sort_values(ascending=False).index)\n",
        "    warm_up = warm_up.reindex(rindex)\n",
        "    \n",
        "    # Chuyển thành warm-up set theo từng user\n",
        "    warm_up = warm_up.groupby(\"userId\").agg({itemCol:list, \"y\":list})\n",
        "    \n",
        "    # Cắt và padding để có chung độ dài\n",
        "    warm_up[\"movieId_pad\"] = padding_list(warm_up[itemCol], wu_size, is_padding=is_padding)\n",
        "    warm_up[\"rating_pad\"] = padding_list(warm_up[\"y\"], wu_size, is_padding=is_padding)\n",
        "    \n",
        "#     warm_up[\"length\"] = warm_up[\"movieId_pad\"].apply(lambda x: len(x))\n",
        "    if user_index is not None:\n",
        "        warm_up = warm_up.reindex(user_index)\n",
        "    \n",
        "    if not is_padding:\n",
        "        return warm_up#warm_up[\"movieId_pad\"], warm_up[\"rating_pad\"], warm_up.index\n",
        "    \n",
        "    # Chuyển về array\n",
        "    items_arr = to_arr(warm_up[\"movieId_pad\"])\n",
        "    ratings = to_arr(warm_up[\"rating_pad\"])\n",
        "    user_index = warm_up.index\n",
        "    \n",
        "    return items_arr, ratings, user_index\n",
        "\n",
        "# item_arr, rating_arr, user_index = warmup_arr(warm_up[warm_up[\"userId\"].isin([11, 12, 103, 16, 20])])\n",
        "item_arr, rating_arr, user_index = warmup_arr(warm_up, wu_size=100, items=top_items)"
      ],
      "metadata": {
        "colab": {
          "base_uri": "https://localhost:8080/"
        },
        "id": "npeWqM17Dpki",
        "outputId": "07dee3f1-1407-4a62-98fa-4deea958401f"
      },
      "execution_count": 19,
      "outputs": [
        {
          "output_type": "stream",
          "name": "stdout",
          "text": [
            "done 1\n",
            "done 2\n"
          ]
        }
      ]
    },
    {
      "cell_type": "code",
      "execution_count": 15,
      "metadata": {
        "id": "xUIePjHtAQq3",
        "colab": {
          "base_uri": "https://localhost:8080/",
          "height": 493
        },
        "outputId": "ce49fbb5-3783-4fa1-8e0e-9157730f0059"
      },
      "outputs": [
        {
          "output_type": "error",
          "ename": "KeyError",
          "evalue": "ignored",
          "traceback": [
            "\u001b[0;31m---------------------------------------------------------------------------\u001b[0m",
            "\u001b[0;31mKeyError\u001b[0m                                  Traceback (most recent call last)",
            "\u001b[0;32m/usr/local/lib/python3.7/dist-packages/pandas/core/indexes/base.py\u001b[0m in \u001b[0;36mget_loc\u001b[0;34m(self, key, method, tolerance)\u001b[0m\n\u001b[1;32m   3360\u001b[0m             \u001b[0;32mtry\u001b[0m\u001b[0;34m:\u001b[0m\u001b[0;34m\u001b[0m\u001b[0;34m\u001b[0m\u001b[0m\n\u001b[0;32m-> 3361\u001b[0;31m                 \u001b[0;32mreturn\u001b[0m \u001b[0mself\u001b[0m\u001b[0;34m.\u001b[0m\u001b[0m_engine\u001b[0m\u001b[0;34m.\u001b[0m\u001b[0mget_loc\u001b[0m\u001b[0;34m(\u001b[0m\u001b[0mcasted_key\u001b[0m\u001b[0;34m)\u001b[0m\u001b[0;34m\u001b[0m\u001b[0;34m\u001b[0m\u001b[0m\n\u001b[0m\u001b[1;32m   3362\u001b[0m             \u001b[0;32mexcept\u001b[0m \u001b[0mKeyError\u001b[0m \u001b[0;32mas\u001b[0m \u001b[0merr\u001b[0m\u001b[0;34m:\u001b[0m\u001b[0;34m\u001b[0m\u001b[0;34m\u001b[0m\u001b[0m\n",
            "\u001b[0;32m/usr/local/lib/python3.7/dist-packages/pandas/_libs/index.pyx\u001b[0m in \u001b[0;36mpandas._libs.index.IndexEngine.get_loc\u001b[0;34m()\u001b[0m\n",
            "\u001b[0;32m/usr/local/lib/python3.7/dist-packages/pandas/_libs/index.pyx\u001b[0m in \u001b[0;36mpandas._libs.index.IndexEngine.get_loc\u001b[0;34m()\u001b[0m\n",
            "\u001b[0;32mpandas/_libs/hashtable_class_helper.pxi\u001b[0m in \u001b[0;36mpandas._libs.hashtable.PyObjectHashTable.get_item\u001b[0;34m()\u001b[0m\n",
            "\u001b[0;32mpandas/_libs/hashtable_class_helper.pxi\u001b[0m in \u001b[0;36mpandas._libs.hashtable.PyObjectHashTable.get_item\u001b[0;34m()\u001b[0m\n",
            "\u001b[0;31mKeyError\u001b[0m: 'i'",
            "\nThe above exception was the direct cause of the following exception:\n",
            "\u001b[0;31mKeyError\u001b[0m                                  Traceback (most recent call last)",
            "\u001b[0;32m<ipython-input-15-c296a9fa3dad>\u001b[0m in \u001b[0;36m<module>\u001b[0;34m()\u001b[0m\n\u001b[1;32m     43\u001b[0m \u001b[0;34m\u001b[0m\u001b[0m\n\u001b[1;32m     44\u001b[0m \u001b[0;31m# item_arr, rating_arr, user_index = warmup_arr(warm_up[warm_up[\"userId\"].isin([11, 12, 103, 16, 20])])\u001b[0m\u001b[0;34m\u001b[0m\u001b[0;34m\u001b[0m\u001b[0;34m\u001b[0m\u001b[0m\n\u001b[0;32m---> 45\u001b[0;31m \u001b[0mitem_arr\u001b[0m\u001b[0;34m,\u001b[0m \u001b[0mrating_arr\u001b[0m\u001b[0;34m,\u001b[0m \u001b[0muser_index\u001b[0m \u001b[0;34m=\u001b[0m \u001b[0mwarmup_arr\u001b[0m\u001b[0;34m(\u001b[0m\u001b[0mwarm_up\u001b[0m\u001b[0;34m,\u001b[0m \u001b[0mitems\u001b[0m\u001b[0;34m=\u001b[0m\u001b[0mtop_items\u001b[0m\u001b[0;34m)\u001b[0m\u001b[0;34m\u001b[0m\u001b[0;34m\u001b[0m\u001b[0m\n\u001b[0m",
            "\u001b[0;32m<ipython-input-15-c296a9fa3dad>\u001b[0m in \u001b[0;36mwarmup_arr\u001b[0;34m(warm_up, wu_size, user_index, items, is_padding)\u001b[0m\n\u001b[1;32m     15\u001b[0m         \u001b[0mwarm_up\u001b[0m \u001b[0;34m=\u001b[0m \u001b[0mwarm_up\u001b[0m\u001b[0;34m[\u001b[0m\u001b[0mwarm_up\u001b[0m\u001b[0;34m[\u001b[0m\u001b[0;34m\"userId\"\u001b[0m\u001b[0;34m]\u001b[0m\u001b[0;34m.\u001b[0m\u001b[0misin\u001b[0m\u001b[0;34m(\u001b[0m\u001b[0muser_index\u001b[0m\u001b[0;34m)\u001b[0m\u001b[0;34m]\u001b[0m\u001b[0;34m\u001b[0m\u001b[0;34m\u001b[0m\u001b[0m\n\u001b[1;32m     16\u001b[0m     \u001b[0;32mif\u001b[0m \u001b[0mitems\u001b[0m \u001b[0;32mis\u001b[0m \u001b[0;32mnot\u001b[0m \u001b[0;32mNone\u001b[0m\u001b[0;34m:\u001b[0m\u001b[0;34m\u001b[0m\u001b[0;34m\u001b[0m\u001b[0m\n\u001b[0;32m---> 17\u001b[0;31m         \u001b[0mwarm_up\u001b[0m \u001b[0;34m=\u001b[0m \u001b[0mwarm_up\u001b[0m\u001b[0;34m[\u001b[0m\u001b[0mwarm_up\u001b[0m\u001b[0;34m[\u001b[0m\u001b[0;34m\"i\"\u001b[0m\u001b[0;34m]\u001b[0m\u001b[0;34m.\u001b[0m\u001b[0misin\u001b[0m\u001b[0;34m(\u001b[0m\u001b[0mitems\u001b[0m\u001b[0;34m)\u001b[0m\u001b[0;34m]\u001b[0m\u001b[0;34m\u001b[0m\u001b[0;34m\u001b[0m\u001b[0m\n\u001b[0m\u001b[1;32m     18\u001b[0m \u001b[0;34m\u001b[0m\u001b[0m\n\u001b[1;32m     19\u001b[0m     \u001b[0;31m# Sắp xếp item theo thứ tự giảm dần rating (về sau cắt padding sẽ ưu tiên giữ lại item có rating cao)\u001b[0m\u001b[0;34m\u001b[0m\u001b[0;34m\u001b[0m\u001b[0;34m\u001b[0m\u001b[0m\n",
            "\u001b[0;32m/usr/local/lib/python3.7/dist-packages/pandas/core/frame.py\u001b[0m in \u001b[0;36m__getitem__\u001b[0;34m(self, key)\u001b[0m\n\u001b[1;32m   3456\u001b[0m             \u001b[0;32mif\u001b[0m \u001b[0mself\u001b[0m\u001b[0;34m.\u001b[0m\u001b[0mcolumns\u001b[0m\u001b[0;34m.\u001b[0m\u001b[0mnlevels\u001b[0m \u001b[0;34m>\u001b[0m \u001b[0;36m1\u001b[0m\u001b[0;34m:\u001b[0m\u001b[0;34m\u001b[0m\u001b[0;34m\u001b[0m\u001b[0m\n\u001b[1;32m   3457\u001b[0m                 \u001b[0;32mreturn\u001b[0m \u001b[0mself\u001b[0m\u001b[0;34m.\u001b[0m\u001b[0m_getitem_multilevel\u001b[0m\u001b[0;34m(\u001b[0m\u001b[0mkey\u001b[0m\u001b[0;34m)\u001b[0m\u001b[0;34m\u001b[0m\u001b[0;34m\u001b[0m\u001b[0m\n\u001b[0;32m-> 3458\u001b[0;31m             \u001b[0mindexer\u001b[0m \u001b[0;34m=\u001b[0m \u001b[0mself\u001b[0m\u001b[0;34m.\u001b[0m\u001b[0mcolumns\u001b[0m\u001b[0;34m.\u001b[0m\u001b[0mget_loc\u001b[0m\u001b[0;34m(\u001b[0m\u001b[0mkey\u001b[0m\u001b[0;34m)\u001b[0m\u001b[0;34m\u001b[0m\u001b[0;34m\u001b[0m\u001b[0m\n\u001b[0m\u001b[1;32m   3459\u001b[0m             \u001b[0;32mif\u001b[0m \u001b[0mis_integer\u001b[0m\u001b[0;34m(\u001b[0m\u001b[0mindexer\u001b[0m\u001b[0;34m)\u001b[0m\u001b[0;34m:\u001b[0m\u001b[0;34m\u001b[0m\u001b[0;34m\u001b[0m\u001b[0m\n\u001b[1;32m   3460\u001b[0m                 \u001b[0mindexer\u001b[0m \u001b[0;34m=\u001b[0m \u001b[0;34m[\u001b[0m\u001b[0mindexer\u001b[0m\u001b[0;34m]\u001b[0m\u001b[0;34m\u001b[0m\u001b[0;34m\u001b[0m\u001b[0m\n",
            "\u001b[0;32m/usr/local/lib/python3.7/dist-packages/pandas/core/indexes/base.py\u001b[0m in \u001b[0;36mget_loc\u001b[0;34m(self, key, method, tolerance)\u001b[0m\n\u001b[1;32m   3361\u001b[0m                 \u001b[0;32mreturn\u001b[0m \u001b[0mself\u001b[0m\u001b[0;34m.\u001b[0m\u001b[0m_engine\u001b[0m\u001b[0;34m.\u001b[0m\u001b[0mget_loc\u001b[0m\u001b[0;34m(\u001b[0m\u001b[0mcasted_key\u001b[0m\u001b[0;34m)\u001b[0m\u001b[0;34m\u001b[0m\u001b[0;34m\u001b[0m\u001b[0m\n\u001b[1;32m   3362\u001b[0m             \u001b[0;32mexcept\u001b[0m \u001b[0mKeyError\u001b[0m \u001b[0;32mas\u001b[0m \u001b[0merr\u001b[0m\u001b[0;34m:\u001b[0m\u001b[0;34m\u001b[0m\u001b[0;34m\u001b[0m\u001b[0m\n\u001b[0;32m-> 3363\u001b[0;31m                 \u001b[0;32mraise\u001b[0m \u001b[0mKeyError\u001b[0m\u001b[0;34m(\u001b[0m\u001b[0mkey\u001b[0m\u001b[0;34m)\u001b[0m \u001b[0;32mfrom\u001b[0m \u001b[0merr\u001b[0m\u001b[0;34m\u001b[0m\u001b[0;34m\u001b[0m\u001b[0m\n\u001b[0m\u001b[1;32m   3364\u001b[0m \u001b[0;34m\u001b[0m\u001b[0m\n\u001b[1;32m   3365\u001b[0m         \u001b[0;32mif\u001b[0m \u001b[0mis_scalar\u001b[0m\u001b[0;34m(\u001b[0m\u001b[0mkey\u001b[0m\u001b[0;34m)\u001b[0m \u001b[0;32mand\u001b[0m \u001b[0misna\u001b[0m\u001b[0;34m(\u001b[0m\u001b[0mkey\u001b[0m\u001b[0;34m)\u001b[0m \u001b[0;32mand\u001b[0m \u001b[0;32mnot\u001b[0m \u001b[0mself\u001b[0m\u001b[0;34m.\u001b[0m\u001b[0mhasnans\u001b[0m\u001b[0;34m:\u001b[0m\u001b[0;34m\u001b[0m\u001b[0;34m\u001b[0m\u001b[0m\n",
            "\u001b[0;31mKeyError\u001b[0m: 'i'"
          ]
        }
      ],
      "source": [
        "# Tổng hợp warm-up thành mảng theo user: mỗi user gồm một ma trận item_id + rating của item đó\n",
        "\n",
        "def padding_list(series_item, wu_size, value=0, is_padding=True):\n",
        "    series_item1 = series_item.apply(lambda x: x[0:wu_size])\n",
        "    if is_padding:\n",
        "        series_item1 = series_item1.apply(lambda x: x+[value]*(wu_size-len(x)))\n",
        "    return series_item1\n",
        "\n",
        "def to_arr(series):\n",
        "    x = series.apply(lambda x: np.array(x)).values\n",
        "    return np.stack(x)\n",
        "    \n",
        "def warmup_arr(warm_up, wu_size = 100, user_index=None, items = None, is_padding = True):\n",
        "    if user_index is not None:\n",
        "        warm_up = warm_up[warm_up[\"userId\"].isin(user_index)]\n",
        "    if items is not None:\n",
        "        warm_up = warm_up[warm_up[\"i\"].isin(items)]\n",
        "    \n",
        "    # Sắp xếp item theo thứ tự giảm dần rating (về sau cắt padding sẽ ưu tiên giữ lại item có rating cao)\n",
        "    rindex = warm_up.groupby(\"userId\")[\"y\"].transform(lambda grp: grp.sort_values(ascending=False).index)\n",
        "    warm_up = warm_up.reindex(rindex)\n",
        "    \n",
        "    # Chuyển thành warm-up set theo từng user\n",
        "    warm_up = warm_up.groupby(\"userId\").agg({\"i\":list, \"y\":list})\n",
        "    \n",
        "    # Cắt và padding để có chung độ dài\n",
        "    warm_up[\"movieId_pad\"] = padding_list(warm_up[\"i\"], wu_size, is_padding=is_padding)\n",
        "    warm_up[\"rating_pad\"] = padding_list(warm_up[\"y\"], wu_size, is_padding=is_padding)\n",
        "    \n",
        "#     warm_up[\"length\"] = warm_up[\"movieId_pad\"].apply(lambda x: len(x))\n",
        "    if user_index is not None:\n",
        "        warm_up = warm_up.reindex(user_index)\n",
        "    \n",
        "    if not is_padding:\n",
        "        return warm_up#warm_up[\"movieId_pad\"], warm_up[\"rating_pad\"], warm_up.index\n",
        "    \n",
        "    # Chuyển về array\n",
        "    items_arr = to_arr(warm_up[\"movieId_pad\"])\n",
        "    ratings = to_arr(warm_up[\"rating_pad\"])\n",
        "    user_index = warm_up.index\n",
        "    \n",
        "    return items_arr, ratings, user_index\n",
        "\n",
        "# item_arr, rating_arr, user_index = warmup_arr(warm_up[warm_up[\"userId\"].isin([11, 12, 103, 16, 20])])\n",
        "item_arr, rating_arr, user_index = warmup_arr(warm_up, items=top_items)"
      ]
    },
    {
      "cell_type": "code",
      "execution_count": null,
      "metadata": {
        "id": "v5vmsnexAQq3"
      },
      "outputs": [],
      "source": [
        "def sequence_to_vect(items, ratings, size):\n",
        "    vect = np.zeros([size], dtype=np.float16)\n",
        "    if items == items:\n",
        "        vect[items] = ratings\n",
        "    return vect\n",
        "            "
      ]
    },
    {
      "cell_type": "code",
      "execution_count": null,
      "metadata": {
        "id": "05e0JNBWAQq4"
      },
      "outputs": [],
      "source": [
        "def get_corrector(corrector, user_index, corrector_size):\n",
        "    corr_df = warmup_arr( corrector, user_index = user_index, is_padding=False)\n",
        "    corr_df[\"vect\"] = corr_df.apply(lambda x: sequence_to_vect(x[\"movieId_pad\"], x[\"rating_pad\"], corrector_size)\n",
        "                                    , axis=1)\n",
        "    return to_arr(corr_df[\"vect\"]), corr_df.index\n",
        "\n",
        "corrector_size = k+1\n",
        "corrector_arr, corr_index = get_corrector(corrector, user_index, corrector_size)"
      ]
    },
    {
      "cell_type": "code",
      "execution_count": null,
      "metadata": {
        "colab": {
          "base_uri": "https://localhost:8080/"
        },
        "id": "jtlrIKeLAQq4",
        "outputId": "7693f8d0-7d20-42ae-9d55-d7d5aaf43b14"
      },
      "outputs": [
        {
          "output_type": "execute_result",
          "data": {
            "text/plain": [
              "True"
            ]
          },
          "metadata": {},
          "execution_count": 43
        }
      ],
      "source": [
        "# Kiểm tra data đầu vào và đầu ra khớp nhau\n",
        "corr_index.shape == user_index.shape"
      ]
    },
    {
      "cell_type": "code",
      "source": [
        "gc.collect()"
      ],
      "metadata": {
        "colab": {
          "base_uri": "https://localhost:8080/"
        },
        "id": "2HeR2LC9CKM2",
        "outputId": "771e6d34-b809-476b-ca7d-f023bdd4f9b0"
      },
      "execution_count": null,
      "outputs": [
        {
          "output_type": "execute_result",
          "data": {
            "text/plain": [
              "399"
            ]
          },
          "metadata": {},
          "execution_count": 44
        }
      ]
    },
    {
      "cell_type": "code",
      "execution_count": null,
      "metadata": {
        "colab": {
          "base_uri": "https://localhost:8080/"
        },
        "id": "cMbbRqjtAQq4",
        "outputId": "bb05277f-9582-4037-e2db-5f8be069c841"
      },
      "outputs": [
        {
          "output_type": "execute_result",
          "data": {
            "text/plain": [
              "<tf.Tensor: shape=(), dtype=float32, numpy=0.07760624>"
            ]
          },
          "metadata": {},
          "execution_count": 91
        }
      ],
      "source": [
        "def Focus2(alpha=0.01):\n",
        "    def cal_los(y_true, y_pred):\n",
        "        y_pred = tf.cast(y_pred, tf.float32)\n",
        "        y_true = tf.cast(y_true, tf.float32)\n",
        "\n",
        "        positive_true = y_true[y_true!=0]\n",
        "        positive_pred = y_pred[y_true!=0]\n",
        "        los1 = K.square(positive_true-positive_pred )\n",
        "\n",
        "        zero_true = y_true[y_true==0]\n",
        "        zero_pred = y_pred[y_true==0]\n",
        "        los2 =alpha*  K.square(zero_true-zero_pred )\n",
        "\n",
        "\n",
        "        return K.mean( tf.concat([los1, los2], axis=0) )\n",
        "    return cal_los\n",
        "\n",
        "y_true = tf.constant([1,0.2,0,1])\n",
        "y_pred = tf.constant([1,0,5.2,1.005])\n",
        "\n",
        "Focus2(0.01)(y_true, y_pred)"
      ]
    },
    {
      "cell_type": "code",
      "source": [
        "# def Focus2(alpha=0.01):\n",
        "#     def cal_los(y_true, y_pred):\n",
        "#         y_pred = tf.cast(y_pred, tf.float32)\n",
        "#         y_true = tf.cast(y_true, tf.float32)\n",
        "\n",
        "#         positive_true = y_true[y_true!=0]\n",
        "#         positive_pred = y_pred[y_true!=0]\n",
        "#         los1 = K.square(positive_true-positive_pred )\n",
        "#         w1 = tf.ones(positive_true.shape[0])\n",
        "\n",
        "#         zero_true = y_true[y_true==0]\n",
        "#         zero_pred = y_pred[y_true==0]\n",
        "#         los2 = alpha*  K.square(zero_true-zero_pred )\n",
        "#         w2 = alpha* tf.ones(zero_true.shape[0])\n",
        "\n",
        "#         return K.sum(tf.multiply( tf.concat([los1, los2], axis=0), tf.concat([w1, w2], axis=0) ))\n",
        "#     return cal_los\n",
        "\n",
        "# y_true = tf.constant([1,0.2,0.4,1])\n",
        "# y_pred = tf.constant([1,0.2,0.4,1.1])\n",
        "\n",
        "# Focus2(0.001)(y_true, y_pred)"
      ],
      "metadata": {
        "colab": {
          "base_uri": "https://localhost:8080/"
        },
        "id": "sMwSMDEvQwMQ",
        "outputId": "00c28117-2b89-4abe-fc40-eea6ac326979"
      },
      "execution_count": null,
      "outputs": [
        {
          "output_type": "execute_result",
          "data": {
            "text/plain": [
              "<tf.Tensor: shape=(), dtype=float32, numpy=0.010000004>"
            ]
          },
          "metadata": {},
          "execution_count": 88
        }
      ]
    },
    {
      "cell_type": "code",
      "execution_count": null,
      "metadata": {
        "id": "Nt4pp6NDAQq5"
      },
      "outputs": [],
      "source": [
        "# Xây dựng mạng\n",
        "# def single_itemId(i,input_dim, embedding_size):\n",
        "#     x = layers.Input(name='input'+i )\n",
        "#     x = layers.Embedding(input_dim=input_dim, output_dim= embedding_size, mask_zero= True)(x)\n",
        "#     return x\n",
        "wu_size = 100\n",
        "embedding_size = 100\n",
        "input_dim = item_num\n",
        "cluster_num = 50\n",
        "\n",
        "def get_model():\n",
        "\n",
        "    input_wi = layers.Input(shape=(wu_size), name='warmup_item')\n",
        "    wi = layers.Embedding(input_dim=input_dim, output_dim= embedding_size, mask_zero= True, name='ei')(input_wi)\n",
        "    wi = layers.Dense(embedding_size, activation='relu', name='di')(wi)\n",
        "\n",
        "    wr = layers.Input(shape=(wu_size), name='warmup_rating')\n",
        "\n",
        "    ireps = layers.Multiply(name='mul')([wi, wr])\n",
        "    uprofile = layers.Lambda(lambda z: K.sum(z, axis=1), name='lambda')(ireps)\n",
        "\n",
        "    ureps = layers.LayerNormalization(name='norm')(uprofile)\n",
        "    ureps = layers.Dense(int(wu_size/2), activation='relu', name='du')(ureps)\n",
        "    clusters = layers.Dense(cluster_num, activation= 'sigmoid', name='clustering')(ureps)\n",
        "    correctors = layers.Dense(corrector_size)(clusters)\n",
        "    \n",
        "    model = tf.keras.Model(inputs= [input_wi, wr], outputs=[correctors])\n",
        "    return model\n",
        "\n",
        "model = get_model()"
      ]
    },
    {
      "cell_type": "code",
      "execution_count": null,
      "metadata": {
        "id": "kB-X6xTkAQq5"
      },
      "outputs": [],
      "source": [
        "model.compile( optimizer='adam', loss= Focus2(1e-5) )"
      ]
    },
    {
      "cell_type": "code",
      "execution_count": null,
      "metadata": {
        "colab": {
          "base_uri": "https://localhost:8080/"
        },
        "id": "UzKl8ntPAQq5",
        "outputId": "7ea970c6-10d8-4497-fe35-2f4ab38c7859"
      },
      "outputs": [
        {
          "output_type": "stream",
          "name": "stdout",
          "text": [
            "Model: \"model_4\"\n",
            "__________________________________________________________________________________________________\n",
            " Layer (type)                   Output Shape         Param #     Connected to                     \n",
            "==================================================================================================\n",
            " warmup_item (InputLayer)       [(None, 100)]        0           []                               \n",
            "                                                                                                  \n",
            " ei (Embedding)                 (None, 100, 100)     100000      ['warmup_item[0][0]']            \n",
            "                                                                                                  \n",
            " di (Dense)                     (None, 100, 100)     10100       ['ei[0][0]']                     \n",
            "                                                                                                  \n",
            " warmup_rating (InputLayer)     [(None, 100)]        0           []                               \n",
            "                                                                                                  \n",
            " mul (Multiply)                 (None, 100, 100)     0           ['di[0][0]',                     \n",
            "                                                                  'warmup_rating[0][0]']          \n",
            "                                                                                                  \n",
            " lambda (Lambda)                (None, 100)          0           ['mul[0][0]']                    \n",
            "                                                                                                  \n",
            " norm (LayerNormalization)      (None, 100)          200         ['lambda[0][0]']                 \n",
            "                                                                                                  \n",
            " du (Dense)                     (None, 50)           5050        ['norm[0][0]']                   \n",
            "                                                                                                  \n",
            " clustering (Dense)             (None, 50)           2550        ['du[0][0]']                     \n",
            "                                                                                                  \n",
            " dense_16 (Dense)               (None, 1001)         51051       ['clustering[0][0]']             \n",
            "                                                                                                  \n",
            "==================================================================================================\n",
            "Total params: 168,951\n",
            "Trainable params: 168,951\n",
            "Non-trainable params: 0\n",
            "__________________________________________________________________________________________________\n"
          ]
        }
      ],
      "source": [
        "model.summary()"
      ]
    },
    {
      "cell_type": "code",
      "execution_count": null,
      "metadata": {
        "colab": {
          "base_uri": "https://localhost:8080/"
        },
        "id": "Vq3zkQA2AQq5",
        "outputId": "d248a8ca-faeb-4b26-8632-99617789bbba"
      },
      "outputs": [
        {
          "output_type": "stream",
          "name": "stdout",
          "text": [
            "Epoch 1/5\n",
            "261/261 [==============================] - 38s 142ms/step - loss: 8.0480e-04\n",
            "Epoch 2/5\n",
            "261/261 [==============================] - 38s 147ms/step - loss: 4.6183e-04\n",
            "Epoch 3/5\n",
            "261/261 [==============================] - 38s 145ms/step - loss: 4.4639e-04\n",
            "Epoch 4/5\n",
            "261/261 [==============================] - 38s 147ms/step - loss: 4.4143e-04\n",
            "Epoch 5/5\n",
            "261/261 [==============================] - 38s 144ms/step - loss: 4.3835e-04\n"
          ]
        },
        {
          "output_type": "execute_result",
          "data": {
            "text/plain": [
              "<keras.callbacks.History at 0x7f8a0b5f1c10>"
            ]
          },
          "metadata": {},
          "execution_count": 106
        }
      ],
      "source": [
        "model.fit(x=[item_arr, rating_arr], y=corrector_arr, epochs=5, batch_size=512)"
      ]
    },
    {
      "cell_type": "code",
      "source": [
        "input_wi = model.get_layer('warmup_item')\n",
        "wi = model.get_layer('ei')(input_wi)"
      ],
      "metadata": {
        "colab": {
          "base_uri": "https://localhost:8080/",
          "height": 425
        },
        "id": "covGlepvW1qQ",
        "outputId": "c5c21aab-8f61-4ffc-d1f4-244309365fb8"
      },
      "execution_count": null,
      "outputs": [
        {
          "output_type": "error",
          "ename": "AttributeError",
          "evalue": "ignored",
          "traceback": [
            "\u001b[0;31m---------------------------------------------------------------------------\u001b[0m",
            "\u001b[0;31mAttributeError\u001b[0m                            Traceback (most recent call last)",
            "\u001b[0;32m<ipython-input-116-b1788559992e>\u001b[0m in \u001b[0;36m<module>\u001b[0;34m()\u001b[0m\n\u001b[1;32m      1\u001b[0m \u001b[0minput_wi\u001b[0m \u001b[0;34m=\u001b[0m \u001b[0mmodel\u001b[0m\u001b[0;34m.\u001b[0m\u001b[0mget_layer\u001b[0m\u001b[0;34m(\u001b[0m\u001b[0;34m'warmup_item'\u001b[0m\u001b[0;34m)\u001b[0m\u001b[0;34m\u001b[0m\u001b[0;34m\u001b[0m\u001b[0m\n\u001b[0;32m----> 2\u001b[0;31m \u001b[0mwi\u001b[0m \u001b[0;34m=\u001b[0m \u001b[0mmodel\u001b[0m\u001b[0;34m.\u001b[0m\u001b[0mget_layer\u001b[0m\u001b[0;34m(\u001b[0m\u001b[0;34m'ei'\u001b[0m\u001b[0;34m)\u001b[0m\u001b[0;34m(\u001b[0m\u001b[0minput_wi\u001b[0m\u001b[0;34m)\u001b[0m\u001b[0;34m\u001b[0m\u001b[0;34m\u001b[0m\u001b[0m\n\u001b[0m",
            "\u001b[0;32m/usr/local/lib/python3.7/dist-packages/keras/utils/traceback_utils.py\u001b[0m in \u001b[0;36merror_handler\u001b[0;34m(*args, **kwargs)\u001b[0m\n\u001b[1;32m     65\u001b[0m     \u001b[0;32mexcept\u001b[0m \u001b[0mException\u001b[0m \u001b[0;32mas\u001b[0m \u001b[0me\u001b[0m\u001b[0;34m:\u001b[0m  \u001b[0;31m# pylint: disable=broad-except\u001b[0m\u001b[0;34m\u001b[0m\u001b[0;34m\u001b[0m\u001b[0m\n\u001b[1;32m     66\u001b[0m       \u001b[0mfiltered_tb\u001b[0m \u001b[0;34m=\u001b[0m \u001b[0m_process_traceback_frames\u001b[0m\u001b[0;34m(\u001b[0m\u001b[0me\u001b[0m\u001b[0;34m.\u001b[0m\u001b[0m__traceback__\u001b[0m\u001b[0;34m)\u001b[0m\u001b[0;34m\u001b[0m\u001b[0;34m\u001b[0m\u001b[0m\n\u001b[0;32m---> 67\u001b[0;31m       \u001b[0;32mraise\u001b[0m \u001b[0me\u001b[0m\u001b[0;34m.\u001b[0m\u001b[0mwith_traceback\u001b[0m\u001b[0;34m(\u001b[0m\u001b[0mfiltered_tb\u001b[0m\u001b[0;34m)\u001b[0m \u001b[0;32mfrom\u001b[0m \u001b[0;32mNone\u001b[0m\u001b[0;34m\u001b[0m\u001b[0;34m\u001b[0m\u001b[0m\n\u001b[0m\u001b[1;32m     68\u001b[0m     \u001b[0;32mfinally\u001b[0m\u001b[0;34m:\u001b[0m\u001b[0;34m\u001b[0m\u001b[0;34m\u001b[0m\u001b[0m\n\u001b[1;32m     69\u001b[0m       \u001b[0;32mdel\u001b[0m \u001b[0mfiltered_tb\u001b[0m\u001b[0;34m\u001b[0m\u001b[0;34m\u001b[0m\u001b[0m\n",
            "\u001b[0;32m/usr/local/lib/python3.7/dist-packages/keras/backend.py\u001b[0m in \u001b[0;36mdtype\u001b[0;34m(x)\u001b[0m\n\u001b[1;32m   1533\u001b[0m \u001b[0;34m\u001b[0m\u001b[0m\n\u001b[1;32m   1534\u001b[0m   \"\"\"\n\u001b[0;32m-> 1535\u001b[0;31m   \u001b[0;32mreturn\u001b[0m \u001b[0mx\u001b[0m\u001b[0;34m.\u001b[0m\u001b[0mdtype\u001b[0m\u001b[0;34m.\u001b[0m\u001b[0mbase_dtype\u001b[0m\u001b[0;34m.\u001b[0m\u001b[0mname\u001b[0m\u001b[0;34m\u001b[0m\u001b[0;34m\u001b[0m\u001b[0m\n\u001b[0m\u001b[1;32m   1536\u001b[0m \u001b[0;34m\u001b[0m\u001b[0m\n\u001b[1;32m   1537\u001b[0m \u001b[0;34m\u001b[0m\u001b[0m\n",
            "\u001b[0;31mAttributeError\u001b[0m: Exception encountered when calling layer \"ei\" (type Embedding).\n\n'str' object has no attribute 'base_dtype'\n\nCall arguments received:\n  • inputs=<keras.engine.input_layer.InputLayer object at 0x7f8a0bbcacd0>"
          ]
        }
      ]
    },
    {
      "cell_type": "code",
      "source": [
        "def get_cluster_model(model):\n",
        "    input_wi = model.get_layer('warmup_item')\n",
        "    wi = model.get_layer('ei')(input_wi)\n",
        "    wi = model.get_layer('di')(wi)\n",
        "\n",
        "    wr = model.get_layer('warmup_rating')\n",
        "\n",
        "    ireps = model.get_layer('mul')([wi, wr])\n",
        "    uprofile = model.get_layer('lambda')(ireps)\n",
        "\n",
        "    ureps = model.get_layer('norm')(uprofile)\n",
        "    ureps = model.get_layer('du')(ureps)\n",
        "    clusters = model.get_layer('clustering')(ureps)\n",
        "\n",
        "    cluster_model = tf.keras.Model(inputs= [input_wi, wr], outputs=[clusters])\n",
        "    return cluster_model\n",
        "\n",
        "cluster_model = get_cluster_model(model)"
      ],
      "metadata": {
        "colab": {
          "base_uri": "https://localhost:8080/",
          "height": 442
        },
        "id": "JcoFakXWU3NP",
        "outputId": "adf80528-7d46-455f-845c-26277baf70a8"
      },
      "execution_count": null,
      "outputs": [
        {
          "output_type": "error",
          "ename": "AttributeError",
          "evalue": "ignored",
          "traceback": [
            "\u001b[0;31m---------------------------------------------------------------------------\u001b[0m",
            "\u001b[0;31mAttributeError\u001b[0m                            Traceback (most recent call last)",
            "\u001b[0;32m<ipython-input-111-8baee4b17894>\u001b[0m in \u001b[0;36m<module>\u001b[0;34m()\u001b[0m\n\u001b[1;32m     16\u001b[0m     \u001b[0;32mreturn\u001b[0m \u001b[0mcluster_model\u001b[0m\u001b[0;34m\u001b[0m\u001b[0;34m\u001b[0m\u001b[0m\n\u001b[1;32m     17\u001b[0m \u001b[0;34m\u001b[0m\u001b[0m\n\u001b[0;32m---> 18\u001b[0;31m \u001b[0mcluster_model\u001b[0m \u001b[0;34m=\u001b[0m \u001b[0mget_cluster_model\u001b[0m\u001b[0;34m(\u001b[0m\u001b[0mmodel\u001b[0m\u001b[0;34m)\u001b[0m\u001b[0;34m\u001b[0m\u001b[0;34m\u001b[0m\u001b[0m\n\u001b[0m",
            "\u001b[0;32m<ipython-input-111-8baee4b17894>\u001b[0m in \u001b[0;36mget_cluster_model\u001b[0;34m(model)\u001b[0m\n\u001b[1;32m      1\u001b[0m \u001b[0;32mdef\u001b[0m \u001b[0mget_cluster_model\u001b[0m\u001b[0;34m(\u001b[0m\u001b[0mmodel\u001b[0m\u001b[0;34m)\u001b[0m\u001b[0;34m:\u001b[0m\u001b[0;34m\u001b[0m\u001b[0;34m\u001b[0m\u001b[0m\n\u001b[1;32m      2\u001b[0m     \u001b[0minput_wi\u001b[0m \u001b[0;34m=\u001b[0m \u001b[0mmodel\u001b[0m\u001b[0;34m.\u001b[0m\u001b[0mget_layer\u001b[0m\u001b[0;34m(\u001b[0m\u001b[0;34m'warmup_item'\u001b[0m\u001b[0;34m)\u001b[0m\u001b[0;34m\u001b[0m\u001b[0;34m\u001b[0m\u001b[0m\n\u001b[0;32m----> 3\u001b[0;31m     \u001b[0mwi\u001b[0m \u001b[0;34m=\u001b[0m \u001b[0mmodel\u001b[0m\u001b[0;34m.\u001b[0m\u001b[0mget_layer\u001b[0m\u001b[0;34m(\u001b[0m\u001b[0;34m'ei'\u001b[0m\u001b[0;34m)\u001b[0m\u001b[0;34m(\u001b[0m\u001b[0minput_wi\u001b[0m\u001b[0;34m)\u001b[0m\u001b[0;34m\u001b[0m\u001b[0;34m\u001b[0m\u001b[0m\n\u001b[0m\u001b[1;32m      4\u001b[0m     \u001b[0mwi\u001b[0m \u001b[0;34m=\u001b[0m \u001b[0mmodel\u001b[0m\u001b[0;34m.\u001b[0m\u001b[0mget_layer\u001b[0m\u001b[0;34m(\u001b[0m\u001b[0;34m'di'\u001b[0m\u001b[0;34m)\u001b[0m\u001b[0;34m(\u001b[0m\u001b[0mwi\u001b[0m\u001b[0;34m)\u001b[0m\u001b[0;34m\u001b[0m\u001b[0;34m\u001b[0m\u001b[0m\n\u001b[1;32m      5\u001b[0m \u001b[0;34m\u001b[0m\u001b[0m\n",
            "\u001b[0;32m/usr/local/lib/python3.7/dist-packages/keras/utils/traceback_utils.py\u001b[0m in \u001b[0;36merror_handler\u001b[0;34m(*args, **kwargs)\u001b[0m\n\u001b[1;32m     65\u001b[0m     \u001b[0;32mexcept\u001b[0m \u001b[0mException\u001b[0m \u001b[0;32mas\u001b[0m \u001b[0me\u001b[0m\u001b[0;34m:\u001b[0m  \u001b[0;31m# pylint: disable=broad-except\u001b[0m\u001b[0;34m\u001b[0m\u001b[0;34m\u001b[0m\u001b[0m\n\u001b[1;32m     66\u001b[0m       \u001b[0mfiltered_tb\u001b[0m \u001b[0;34m=\u001b[0m \u001b[0m_process_traceback_frames\u001b[0m\u001b[0;34m(\u001b[0m\u001b[0me\u001b[0m\u001b[0;34m.\u001b[0m\u001b[0m__traceback__\u001b[0m\u001b[0;34m)\u001b[0m\u001b[0;34m\u001b[0m\u001b[0;34m\u001b[0m\u001b[0m\n\u001b[0;32m---> 67\u001b[0;31m       \u001b[0;32mraise\u001b[0m \u001b[0me\u001b[0m\u001b[0;34m.\u001b[0m\u001b[0mwith_traceback\u001b[0m\u001b[0;34m(\u001b[0m\u001b[0mfiltered_tb\u001b[0m\u001b[0;34m)\u001b[0m \u001b[0;32mfrom\u001b[0m \u001b[0;32mNone\u001b[0m\u001b[0;34m\u001b[0m\u001b[0;34m\u001b[0m\u001b[0m\n\u001b[0m\u001b[1;32m     68\u001b[0m     \u001b[0;32mfinally\u001b[0m\u001b[0;34m:\u001b[0m\u001b[0;34m\u001b[0m\u001b[0;34m\u001b[0m\u001b[0m\n\u001b[1;32m     69\u001b[0m       \u001b[0;32mdel\u001b[0m \u001b[0mfiltered_tb\u001b[0m\u001b[0;34m\u001b[0m\u001b[0;34m\u001b[0m\u001b[0m\n",
            "\u001b[0;32m/usr/local/lib/python3.7/dist-packages/keras/backend.py\u001b[0m in \u001b[0;36mdtype\u001b[0;34m(x)\u001b[0m\n\u001b[1;32m   1533\u001b[0m \u001b[0;34m\u001b[0m\u001b[0m\n\u001b[1;32m   1534\u001b[0m   \"\"\"\n\u001b[0;32m-> 1535\u001b[0;31m   \u001b[0;32mreturn\u001b[0m \u001b[0mx\u001b[0m\u001b[0;34m.\u001b[0m\u001b[0mdtype\u001b[0m\u001b[0;34m.\u001b[0m\u001b[0mbase_dtype\u001b[0m\u001b[0;34m.\u001b[0m\u001b[0mname\u001b[0m\u001b[0;34m\u001b[0m\u001b[0;34m\u001b[0m\u001b[0m\n\u001b[0m\u001b[1;32m   1536\u001b[0m \u001b[0;34m\u001b[0m\u001b[0m\n\u001b[1;32m   1537\u001b[0m \u001b[0;34m\u001b[0m\u001b[0m\n",
            "\u001b[0;31mAttributeError\u001b[0m: Exception encountered when calling layer \"ei\" (type Embedding).\n\n'str' object has no attribute 'base_dtype'\n\nCall arguments received:\n  • inputs=<keras.engine.input_layer.InputLayer object at 0x7f8a0bbcacd0>"
          ]
        }
      ]
    },
    {
      "cell_type": "code",
      "execution_count": null,
      "metadata": {
        "colab": {
          "base_uri": "https://localhost:8080/"
        },
        "id": "L7q0CqKgAQq5",
        "outputId": "f9d031c0-6d71-40ab-871a-3fe4e937605e"
      },
      "outputs": [
        {
          "output_type": "execute_result",
          "data": {
            "text/plain": [
              "array([0.9, 0.8, 0.8, 0.8, 0.8, 0.7, 0.7, 0.7, 0.6, 0. , 0. , 0. , 0. ,\n",
              "       0. , 0. , 0. , 0. , 0. , 0. , 0. , 0. , 0. , 0. , 0. , 0. , 0. ,\n",
              "       0. , 0. , 0. , 0. , 0. , 0. , 0. , 0. , 0. , 0. , 0. , 0. , 0. ,\n",
              "       0. , 0. , 0. , 0. , 0. , 0. , 0. , 0. , 0. , 0. , 0. , 0. , 0. ,\n",
              "       0. , 0. , 0. , 0. , 0. , 0. , 0. , 0. , 0. , 0. , 0. , 0. , 0. ,\n",
              "       0. , 0. , 0. , 0. , 0. , 0. , 0. , 0. , 0. , 0. , 0. , 0. , 0. ,\n",
              "       0. , 0. , 0. , 0. , 0. , 0. , 0. , 0. , 0. , 0. , 0. , 0. , 0. ,\n",
              "       0. , 0. , 0. , 0. , 0. , 0. , 0. , 0. , 0. ])"
            ]
          },
          "metadata": {},
          "execution_count": 107
        }
      ],
      "source": [
        "rating_arr[0]"
      ]
    },
    {
      "cell_type": "code",
      "execution_count": null,
      "metadata": {
        "colab": {
          "base_uri": "https://localhost:8080/"
        },
        "id": "xfCwXiuHAQq5",
        "outputId": "2b4f1044-f19c-46d8-f5d9-9cf9dbff6a2f"
      },
      "outputs": [
        {
          "output_type": "execute_result",
          "data": {
            "text/plain": [
              "(133338, 1001)"
            ]
          },
          "metadata": {},
          "execution_count": 108
        }
      ],
      "source": [
        "corrector_arr.shape"
      ]
    },
    {
      "cell_type": "markdown",
      "metadata": {
        "id": "17fHxkHoAQq6"
      },
      "source": [
        "### OLD VERSION (deep co-clustering)"
      ]
    },
    {
      "cell_type": "code",
      "execution_count": null,
      "metadata": {
        "id": "QIOF21-KAQq7"
      },
      "outputs": [],
      "source": [
        "# ts_corrector = tf.sparse.SparseTensor( \n",
        "#     indices= np.concatenate([np.expand_dims(corrector[\"i\"].values, -1), np.ones((2812537, 1))], axis=1),\n",
        "#     values = corrector[\"y\"], \n",
        "#     dense_shape= (corrector.shape[0],item_num) )"
      ]
    },
    {
      "cell_type": "code",
      "execution_count": null,
      "metadata": {
        "id": "RjEcXY0aAQq7"
      },
      "outputs": [],
      "source": [
        "def user_wise_split(df, userCol, itemCol, test_size=0.25):\n",
        "    all_user = df[userCol].drop_duplicates()\n",
        "    train_user, test_user = train_test_split(all_user, test_size=test_size)\n",
        "\n",
        "    train_ratings = df[df[itemCol].isin(train_user)]\n",
        "    test_ratings = df[df[itemCol].isin(test_user)]\n",
        "    return train_ratings, test_ratings\n",
        "\n",
        "train_val, test = train_test_split(ratings, test_size= 0.25)\n",
        "train, valid = user_wise_split(train_val,userCol, itemCol, test_size=0.25 )\n",
        "train.head()"
      ]
    },
    {
      "cell_type": "code",
      "execution_count": null,
      "metadata": {
        "id": "fuAKQrowAQq7"
      },
      "outputs": [],
      "source": [
        "train[\"y\"] = train[\"rating\"]/5\n",
        "u_encoder = sklearn.preprocessing.LabelEncoder()\n",
        "i_encoder = sklearn.preprocessing.LabelEncoder()\n",
        "\n",
        "train[\"u\"] = u_encoder.fit_transform(train[[userCol]])\n",
        "train[\"i\"] = i_encoder.fit_transform(train[[itemCol]])"
      ]
    },
    {
      "cell_type": "code",
      "execution_count": null,
      "metadata": {
        "id": "IrBTiQTMAQq7"
      },
      "outputs": [],
      "source": [
        "u_num = ratings[userCol].drop_duplicates().count()\n",
        "i_num = ratings[itemCol].drop_duplicates().count()\n",
        "\n",
        "u_embedding_size = 50\n",
        "i_embedding_size = 100\n",
        "\n",
        "u_clusters = 100\n",
        "i_clusters = 50\n",
        "\n",
        "embedding_size = 100\n",
        "\n",
        "# user\n",
        "u_input = layers.Input(shape=(1,), name=\"input_u\")\n",
        "u = layers.Embedding( input_dim= u_num, output_dim= u_embedding_size, name=\"embedding_u\")(u_input)\n",
        "u = layers.Dense( u_clusters, activation= 'sigmoid', name=\"sigmoid_u\" )(u)\n",
        "u = layers.Dense( embedding_size, activation= 'relu', name=\"resize_u\" )(u)\n",
        "u = layers.Reshape( target_shape=(embedding_size,), name=\"reshape_u\")(u)\n",
        "\n",
        "# item\n",
        "i_input = layers.Input(shape=(1,), name=\"input_i\")\n",
        "i = layers.Embedding( input_dim= i_num, output_dim= i_embedding_size, name=\"embedding_i\")(i_input)\n",
        "i = layers.Dense( i_clusters, activation= 'sigmoid', name=\"sigmoid_i\" )(i)\n",
        "i = layers.Dense( embedding_size, activation= 'relu', name=\"resize_i\")(i)\n",
        "i = layers.Reshape( target_shape=(embedding_size,), name=\"reshape_i\")(i)\n",
        "\n",
        "dot = layers.Dot(normalize= True, axes=1, name=\"dot\")([u, i])\n",
        "out = layers.Dense( units=1, activation='linear', name=\"out\")(dot)\n",
        "\n",
        "# compile\n",
        "model = tf.keras.models.Model(inputs= [u_input, i_input], outputs= out )\n",
        "model.compile(optimizer='adam', loss='mean_absolute_error', metrics=['mean_absolute_percentage_error'])\n",
        "model.summary()"
      ]
    },
    {
      "cell_type": "code",
      "execution_count": null,
      "metadata": {
        "id": "qgxOhRweAQq8"
      },
      "outputs": [],
      "source": [
        "train"
      ]
    },
    {
      "cell_type": "code",
      "execution_count": null,
      "metadata": {
        "id": "oCDErRr7AQq8"
      },
      "outputs": [],
      "source": [
        "# train\n",
        "training = model.fit(x=[train[\"u\"], train[\"i\"]], y=train[\"y\"], \n",
        "                     epochs=3, batch_size=1024*10, shuffle=True, verbose=1, validation_split=0.3)"
      ]
    },
    {
      "cell_type": "code",
      "execution_count": null,
      "metadata": {
        "id": "zBc31VPuAQq8"
      },
      "outputs": [],
      "source": [
        "# user clustering\n",
        "uCluster = tf.keras.Sequential([\n",
        "    model.get_layer(\"input_u\"), \n",
        "    model.get_layer(\"embedding_u\"), \n",
        "    model.get_layer(\"sigmoid_u\"), \n",
        "    ]\n",
        ")\n",
        "\n",
        "# user clustering\n",
        "iCluster = tf.keras.Sequential([\n",
        "    model.get_layer(\"input_i\"), \n",
        "    model.get_layer(\"embedding_i\"), \n",
        "    model.get_layer(\"sigmoid_i\"), \n",
        "    ]\n",
        ")"
      ]
    },
    {
      "cell_type": "code",
      "execution_count": null,
      "metadata": {
        "id": "ysjUFFjsAQq8"
      },
      "outputs": [],
      "source": [
        "np.argmax( uCluster(np.array([98818, 36868]))[1][0] )"
      ]
    },
    {
      "cell_type": "code",
      "execution_count": null,
      "metadata": {
        "id": "I1y4UFEEAQq8"
      },
      "outputs": [],
      "source": [
        "np.argmax( iCluster(np.array([1360, 1009])).numpy().reshape(2,50) , axis=1)"
      ]
    },
    {
      "cell_type": "code",
      "execution_count": null,
      "metadata": {
        "id": "VVzy2CNxAQq8"
      },
      "outputs": [],
      "source": [
        "iCluster(np.array([1360, 1009]))"
      ]
    },
    {
      "cell_type": "code",
      "execution_count": null,
      "metadata": {
        "id": "flxyj_nQAQq8"
      },
      "outputs": [],
      "source": [
        ""
      ]
    }
  ],
  "metadata": {
    "kernelspec": {
      "display_name": "Python 3",
      "language": "python",
      "name": "python3"
    },
    "language_info": {
      "codemirror_mode": {
        "name": "ipython",
        "version": 3
      },
      "file_extension": ".py",
      "mimetype": "text/x-python",
      "name": "python",
      "nbconvert_exporter": "python",
      "pygments_lexer": "ipython3",
      "version": "3.6.9"
    },
    "colab": {
      "name": "ML20M_sequence.ipynb",
      "provenance": [],
      "collapsed_sections": [
        "17fHxkHoAQq6"
      ],
      "include_colab_link": true
    }
  },
  "nbformat": 4,
  "nbformat_minor": 0
}